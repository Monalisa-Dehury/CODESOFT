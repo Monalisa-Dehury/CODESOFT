{
 "cells": [
  {
   "cell_type": "code",
   "execution_count": 1,
   "id": "b52a4a8b",
   "metadata": {
    "_cell_guid": "b1076dfc-b9ad-4769-8c92-a6c4dae69d19",
    "_uuid": "8f2839f25d086af736a60e9eeb907d3b93b6e0e5",
    "execution": {
     "iopub.execute_input": "2024-03-19T06:50:30.294536Z",
     "iopub.status.busy": "2024-03-19T06:50:30.293649Z",
     "iopub.status.idle": "2024-03-19T06:50:31.263728Z",
     "shell.execute_reply": "2024-03-19T06:50:31.262635Z"
    },
    "papermill": {
     "duration": 0.989589,
     "end_time": "2024-03-19T06:50:31.266139",
     "exception": false,
     "start_time": "2024-03-19T06:50:30.276550",
     "status": "completed"
    },
    "tags": []
   },
   "outputs": [
    {
     "name": "stdout",
     "output_type": "stream",
     "text": [
      "/kaggle/input/fraud-detection/fraudTest.csv\n",
      "/kaggle/input/fraud-detection/fraudTrain.csv\n"
     ]
    }
   ],
   "source": [
    "# This Python 3 environment comes with many helpful analytics libraries installed\n",
    "# It is defined by the kaggle/python Docker image: https://github.com/kaggle/docker-python\n",
    "# For example, here's several helpful packages to load\n",
    "\n",
    "import numpy as np # linear algebra\n",
    "import pandas as pd # data processing, CSV file I/O (e.g. pd.read_csv)\n",
    "\n",
    "# Input data files are available in the read-only \"../input/\" directory\n",
    "# For example, running this (by clicking run or pressing Shift+Enter) will list all files under the input directory\n",
    "\n",
    "import os\n",
    "for dirname, _, filenames in os.walk('/kaggle/input'):\n",
    "    for filename in filenames:\n",
    "        print(os.path.join(dirname, filename))\n",
    "\n",
    "# You can write up to 20GB to the current directory (/kaggle/working/) that gets preserved as output when you create a version using \"Save & Run All\" \n",
    "# You can also write temporary files to /kaggle/temp/, but they won't be saved outside of the current session"
   ]
  },
  {
   "cell_type": "code",
   "execution_count": 2,
   "id": "6d6dbc95",
   "metadata": {
    "execution": {
     "iopub.execute_input": "2024-03-19T06:50:31.294158Z",
     "iopub.status.busy": "2024-03-19T06:50:31.293379Z",
     "iopub.status.idle": "2024-03-19T06:50:34.106032Z",
     "shell.execute_reply": "2024-03-19T06:50:34.105079Z"
    },
    "papermill": {
     "duration": 2.829695,
     "end_time": "2024-03-19T06:50:34.108777",
     "exception": false,
     "start_time": "2024-03-19T06:50:31.279082",
     "status": "completed"
    },
    "tags": []
   },
   "outputs": [],
   "source": [
    "import pandas as pd\n",
    "import numpy as np\n",
    "import seaborn as sns\n",
    "import matplotlib.pyplot as plt\n",
    "from category_encoders import WOEEncoder\n",
    "\n",
    "from sklearn.linear_model import LogisticRegression\n",
    "from sklearn.tree import DecisionTreeClassifier\n",
    "from sklearn.ensemble import RandomForestClassifier\n",
    "from xgboost import XGBClassifier\n",
    "from sklearn.ensemble import RandomForestClassifier\n",
    "\n",
    "from sklearn.utils import resample\n",
    "from sklearn.svm import LinearSVC\n",
    "from sklearn.naive_bayes import GaussianNB\n",
    "\n",
    "from sklearn.metrics import accuracy_score, classification_report, confusion_matrix\n",
    "\n",
    "from sklearn.model_selection import train_test_split\n",
    "\n",
    "sns.set_style('whitegrid') # sets the visual style of Seaborn plots to 'whitegrid', which displays a white background with grid lines.\n",
    "sns.set_palette('pastel')  # sets the color palette to 'pastel', which is one of the predefined color palettes provided by Seaborn. It consists of a set of visually distinct colors suitable for plotting categorical data.\n",
    "\n",
    "import warnings\n",
    "# Ignore all warnings\n",
    "warnings.simplefilter(\"ignore\")"
   ]
  },
  {
   "cell_type": "code",
   "execution_count": 3,
   "id": "550f9a6f",
   "metadata": {
    "execution": {
     "iopub.execute_input": "2024-03-19T06:50:34.137520Z",
     "iopub.status.busy": "2024-03-19T06:50:34.136634Z",
     "iopub.status.idle": "2024-03-19T06:50:54.676868Z",
     "shell.execute_reply": "2024-03-19T06:50:54.675361Z"
    },
    "papermill": {
     "duration": 20.558925,
     "end_time": "2024-03-19T06:50:54.680546",
     "exception": false,
     "start_time": "2024-03-19T06:50:34.121621",
     "status": "completed"
    },
    "tags": []
   },
   "outputs": [],
   "source": [
    "train_data = pd.read_csv('/kaggle/input/fraud-detection/fraudTrain.csv', index_col='Unnamed: 0')\n",
    "test_data = pd.read_csv('/kaggle/input/fraud-detection/fraudTest.csv', index_col='Unnamed: 0')"
   ]
  },
  {
   "cell_type": "code",
   "execution_count": 4,
   "id": "fefda937",
   "metadata": {
    "execution": {
     "iopub.execute_input": "2024-03-19T06:50:54.709093Z",
     "iopub.status.busy": "2024-03-19T06:50:54.708674Z",
     "iopub.status.idle": "2024-03-19T06:50:54.745923Z",
     "shell.execute_reply": "2024-03-19T06:50:54.744534Z"
    },
    "papermill": {
     "duration": 0.0549,
     "end_time": "2024-03-19T06:50:54.749013",
     "exception": false,
     "start_time": "2024-03-19T06:50:54.694113",
     "status": "completed"
    },
    "tags": []
   },
   "outputs": [
    {
     "data": {
      "text/html": [
       "<div>\n",
       "<style scoped>\n",
       "    .dataframe tbody tr th:only-of-type {\n",
       "        vertical-align: middle;\n",
       "    }\n",
       "\n",
       "    .dataframe tbody tr th {\n",
       "        vertical-align: top;\n",
       "    }\n",
       "\n",
       "    .dataframe thead th {\n",
       "        text-align: right;\n",
       "    }\n",
       "</style>\n",
       "<table border=\"1\" class=\"dataframe\">\n",
       "  <thead>\n",
       "    <tr style=\"text-align: right;\">\n",
       "      <th></th>\n",
       "      <th>trans_date_trans_time</th>\n",
       "      <th>cc_num</th>\n",
       "      <th>merchant</th>\n",
       "      <th>category</th>\n",
       "      <th>amt</th>\n",
       "      <th>first</th>\n",
       "      <th>last</th>\n",
       "      <th>gender</th>\n",
       "      <th>street</th>\n",
       "      <th>city</th>\n",
       "      <th>...</th>\n",
       "      <th>lat</th>\n",
       "      <th>long</th>\n",
       "      <th>city_pop</th>\n",
       "      <th>job</th>\n",
       "      <th>dob</th>\n",
       "      <th>trans_num</th>\n",
       "      <th>unix_time</th>\n",
       "      <th>merch_lat</th>\n",
       "      <th>merch_long</th>\n",
       "      <th>is_fraud</th>\n",
       "    </tr>\n",
       "  </thead>\n",
       "  <tbody>\n",
       "    <tr>\n",
       "      <th>0</th>\n",
       "      <td>2019-01-01 00:00:18</td>\n",
       "      <td>2703186189652095</td>\n",
       "      <td>fraud_Rippin, Kub and Mann</td>\n",
       "      <td>misc_net</td>\n",
       "      <td>4.97</td>\n",
       "      <td>Jennifer</td>\n",
       "      <td>Banks</td>\n",
       "      <td>F</td>\n",
       "      <td>561 Perry Cove</td>\n",
       "      <td>Moravian Falls</td>\n",
       "      <td>...</td>\n",
       "      <td>36.0788</td>\n",
       "      <td>-81.1781</td>\n",
       "      <td>3495</td>\n",
       "      <td>Psychologist, counselling</td>\n",
       "      <td>1988-03-09</td>\n",
       "      <td>0b242abb623afc578575680df30655b9</td>\n",
       "      <td>1325376018</td>\n",
       "      <td>36.011293</td>\n",
       "      <td>-82.048315</td>\n",
       "      <td>0</td>\n",
       "    </tr>\n",
       "    <tr>\n",
       "      <th>1</th>\n",
       "      <td>2019-01-01 00:00:44</td>\n",
       "      <td>630423337322</td>\n",
       "      <td>fraud_Heller, Gutmann and Zieme</td>\n",
       "      <td>grocery_pos</td>\n",
       "      <td>107.23</td>\n",
       "      <td>Stephanie</td>\n",
       "      <td>Gill</td>\n",
       "      <td>F</td>\n",
       "      <td>43039 Riley Greens Suite 393</td>\n",
       "      <td>Orient</td>\n",
       "      <td>...</td>\n",
       "      <td>48.8878</td>\n",
       "      <td>-118.2105</td>\n",
       "      <td>149</td>\n",
       "      <td>Special educational needs teacher</td>\n",
       "      <td>1978-06-21</td>\n",
       "      <td>1f76529f8574734946361c461b024d99</td>\n",
       "      <td>1325376044</td>\n",
       "      <td>49.159047</td>\n",
       "      <td>-118.186462</td>\n",
       "      <td>0</td>\n",
       "    </tr>\n",
       "    <tr>\n",
       "      <th>2</th>\n",
       "      <td>2019-01-01 00:00:51</td>\n",
       "      <td>38859492057661</td>\n",
       "      <td>fraud_Lind-Buckridge</td>\n",
       "      <td>entertainment</td>\n",
       "      <td>220.11</td>\n",
       "      <td>Edward</td>\n",
       "      <td>Sanchez</td>\n",
       "      <td>M</td>\n",
       "      <td>594 White Dale Suite 530</td>\n",
       "      <td>Malad City</td>\n",
       "      <td>...</td>\n",
       "      <td>42.1808</td>\n",
       "      <td>-112.2620</td>\n",
       "      <td>4154</td>\n",
       "      <td>Nature conservation officer</td>\n",
       "      <td>1962-01-19</td>\n",
       "      <td>a1a22d70485983eac12b5b88dad1cf95</td>\n",
       "      <td>1325376051</td>\n",
       "      <td>43.150704</td>\n",
       "      <td>-112.154481</td>\n",
       "      <td>0</td>\n",
       "    </tr>\n",
       "    <tr>\n",
       "      <th>3</th>\n",
       "      <td>2019-01-01 00:01:16</td>\n",
       "      <td>3534093764340240</td>\n",
       "      <td>fraud_Kutch, Hermiston and Farrell</td>\n",
       "      <td>gas_transport</td>\n",
       "      <td>45.00</td>\n",
       "      <td>Jeremy</td>\n",
       "      <td>White</td>\n",
       "      <td>M</td>\n",
       "      <td>9443 Cynthia Court Apt. 038</td>\n",
       "      <td>Boulder</td>\n",
       "      <td>...</td>\n",
       "      <td>46.2306</td>\n",
       "      <td>-112.1138</td>\n",
       "      <td>1939</td>\n",
       "      <td>Patent attorney</td>\n",
       "      <td>1967-01-12</td>\n",
       "      <td>6b849c168bdad6f867558c3793159a81</td>\n",
       "      <td>1325376076</td>\n",
       "      <td>47.034331</td>\n",
       "      <td>-112.561071</td>\n",
       "      <td>0</td>\n",
       "    </tr>\n",
       "    <tr>\n",
       "      <th>4</th>\n",
       "      <td>2019-01-01 00:03:06</td>\n",
       "      <td>375534208663984</td>\n",
       "      <td>fraud_Keeling-Crist</td>\n",
       "      <td>misc_pos</td>\n",
       "      <td>41.96</td>\n",
       "      <td>Tyler</td>\n",
       "      <td>Garcia</td>\n",
       "      <td>M</td>\n",
       "      <td>408 Bradley Rest</td>\n",
       "      <td>Doe Hill</td>\n",
       "      <td>...</td>\n",
       "      <td>38.4207</td>\n",
       "      <td>-79.4629</td>\n",
       "      <td>99</td>\n",
       "      <td>Dance movement psychotherapist</td>\n",
       "      <td>1986-03-28</td>\n",
       "      <td>a41d7549acf90789359a9aa5346dcb46</td>\n",
       "      <td>1325376186</td>\n",
       "      <td>38.674999</td>\n",
       "      <td>-78.632459</td>\n",
       "      <td>0</td>\n",
       "    </tr>\n",
       "  </tbody>\n",
       "</table>\n",
       "<p>5 rows × 22 columns</p>\n",
       "</div>"
      ],
      "text/plain": [
       "  trans_date_trans_time            cc_num                            merchant  \\\n",
       "0   2019-01-01 00:00:18  2703186189652095          fraud_Rippin, Kub and Mann   \n",
       "1   2019-01-01 00:00:44      630423337322     fraud_Heller, Gutmann and Zieme   \n",
       "2   2019-01-01 00:00:51    38859492057661                fraud_Lind-Buckridge   \n",
       "3   2019-01-01 00:01:16  3534093764340240  fraud_Kutch, Hermiston and Farrell   \n",
       "4   2019-01-01 00:03:06   375534208663984                 fraud_Keeling-Crist   \n",
       "\n",
       "        category     amt      first     last gender  \\\n",
       "0       misc_net    4.97   Jennifer    Banks      F   \n",
       "1    grocery_pos  107.23  Stephanie     Gill      F   \n",
       "2  entertainment  220.11     Edward  Sanchez      M   \n",
       "3  gas_transport   45.00     Jeremy    White      M   \n",
       "4       misc_pos   41.96      Tyler   Garcia      M   \n",
       "\n",
       "                         street            city  ...      lat      long  \\\n",
       "0                561 Perry Cove  Moravian Falls  ...  36.0788  -81.1781   \n",
       "1  43039 Riley Greens Suite 393          Orient  ...  48.8878 -118.2105   \n",
       "2      594 White Dale Suite 530      Malad City  ...  42.1808 -112.2620   \n",
       "3   9443 Cynthia Court Apt. 038         Boulder  ...  46.2306 -112.1138   \n",
       "4              408 Bradley Rest        Doe Hill  ...  38.4207  -79.4629   \n",
       "\n",
       "   city_pop                                job         dob  \\\n",
       "0      3495          Psychologist, counselling  1988-03-09   \n",
       "1       149  Special educational needs teacher  1978-06-21   \n",
       "2      4154        Nature conservation officer  1962-01-19   \n",
       "3      1939                    Patent attorney  1967-01-12   \n",
       "4        99     Dance movement psychotherapist  1986-03-28   \n",
       "\n",
       "                          trans_num   unix_time  merch_lat  merch_long  \\\n",
       "0  0b242abb623afc578575680df30655b9  1325376018  36.011293  -82.048315   \n",
       "1  1f76529f8574734946361c461b024d99  1325376044  49.159047 -118.186462   \n",
       "2  a1a22d70485983eac12b5b88dad1cf95  1325376051  43.150704 -112.154481   \n",
       "3  6b849c168bdad6f867558c3793159a81  1325376076  47.034331 -112.561071   \n",
       "4  a41d7549acf90789359a9aa5346dcb46  1325376186  38.674999  -78.632459   \n",
       "\n",
       "   is_fraud  \n",
       "0         0  \n",
       "1         0  \n",
       "2         0  \n",
       "3         0  \n",
       "4         0  \n",
       "\n",
       "[5 rows x 22 columns]"
      ]
     },
     "execution_count": 4,
     "metadata": {},
     "output_type": "execute_result"
    }
   ],
   "source": [
    "train_data.head(5)"
   ]
  },
  {
   "cell_type": "code",
   "execution_count": 5,
   "id": "ebacc48f",
   "metadata": {
    "execution": {
     "iopub.execute_input": "2024-03-19T06:50:54.780471Z",
     "iopub.status.busy": "2024-03-19T06:50:54.779462Z",
     "iopub.status.idle": "2024-03-19T06:50:56.532635Z",
     "shell.execute_reply": "2024-03-19T06:50:56.531560Z"
    },
    "papermill": {
     "duration": 1.771806,
     "end_time": "2024-03-19T06:50:56.535968",
     "exception": false,
     "start_time": "2024-03-19T06:50:54.764162",
     "status": "completed"
    },
    "tags": []
   },
   "outputs": [
    {
     "name": "stdout",
     "output_type": "stream",
     "text": [
      "<class 'pandas.core.frame.DataFrame'>\n",
      "Index: 1296675 entries, 0 to 1296674\n",
      "Data columns (total 22 columns):\n",
      " #   Column                 Non-Null Count    Dtype  \n",
      "---  ------                 --------------    -----  \n",
      " 0   trans_date_trans_time  1296675 non-null  object \n",
      " 1   cc_num                 1296675 non-null  int64  \n",
      " 2   merchant               1296675 non-null  object \n",
      " 3   category               1296675 non-null  object \n",
      " 4   amt                    1296675 non-null  float64\n",
      " 5   first                  1296675 non-null  object \n",
      " 6   last                   1296675 non-null  object \n",
      " 7   gender                 1296675 non-null  object \n",
      " 8   street                 1296675 non-null  object \n",
      " 9   city                   1296675 non-null  object \n",
      " 10  state                  1296675 non-null  object \n",
      " 11  zip                    1296675 non-null  int64  \n",
      " 12  lat                    1296675 non-null  float64\n",
      " 13  long                   1296675 non-null  float64\n",
      " 14  city_pop               1296675 non-null  int64  \n",
      " 15  job                    1296675 non-null  object \n",
      " 16  dob                    1296675 non-null  object \n",
      " 17  trans_num              1296675 non-null  object \n",
      " 18  unix_time              1296675 non-null  int64  \n",
      " 19  merch_lat              1296675 non-null  float64\n",
      " 20  merch_long             1296675 non-null  float64\n",
      " 21  is_fraud               1296675 non-null  int64  \n",
      "dtypes: float64(5), int64(5), object(12)\n",
      "memory usage: 227.5+ MB\n"
     ]
    }
   ],
   "source": [
    "train_data.info()"
   ]
  },
  {
   "cell_type": "code",
   "execution_count": 6,
   "id": "4e7a0aa0",
   "metadata": {
    "execution": {
     "iopub.execute_input": "2024-03-19T06:50:56.567684Z",
     "iopub.status.busy": "2024-03-19T06:50:56.566955Z",
     "iopub.status.idle": "2024-03-19T06:50:56.575731Z",
     "shell.execute_reply": "2024-03-19T06:50:56.574950Z"
    },
    "papermill": {
     "duration": 0.026571,
     "end_time": "2024-03-19T06:50:56.578210",
     "exception": false,
     "start_time": "2024-03-19T06:50:56.551639",
     "status": "completed"
    },
    "tags": []
   },
   "outputs": [
    {
     "data": {
      "text/plain": [
       "(1296675, 22)"
      ]
     },
     "execution_count": 6,
     "metadata": {},
     "output_type": "execute_result"
    }
   ],
   "source": [
    "train_data.shape"
   ]
  },
  {
   "cell_type": "code",
   "execution_count": 7,
   "id": "470f67b0",
   "metadata": {
    "execution": {
     "iopub.execute_input": "2024-03-19T06:50:56.609184Z",
     "iopub.status.busy": "2024-03-19T06:50:56.608733Z",
     "iopub.status.idle": "2024-03-19T06:50:56.633709Z",
     "shell.execute_reply": "2024-03-19T06:50:56.632501Z"
    },
    "papermill": {
     "duration": 0.043139,
     "end_time": "2024-03-19T06:50:56.636150",
     "exception": false,
     "start_time": "2024-03-19T06:50:56.593011",
     "status": "completed"
    },
    "tags": []
   },
   "outputs": [
    {
     "name": "stdout",
     "output_type": "stream",
     "text": [
      "Yes:  7506\n",
      "No:  1289169\n"
     ]
    }
   ],
   "source": [
    "is_fraud = train_data[\"is_fraud\"].value_counts()\n",
    "print(\"Yes: \",is_fraud[1])\n",
    "print(\"No: \",is_fraud[0])"
   ]
  },
  {
   "cell_type": "code",
   "execution_count": 8,
   "id": "de6c17fb",
   "metadata": {
    "execution": {
     "iopub.execute_input": "2024-03-19T06:50:56.666522Z",
     "iopub.status.busy": "2024-03-19T06:50:56.666032Z",
     "iopub.status.idle": "2024-03-19T06:51:01.756976Z",
     "shell.execute_reply": "2024-03-19T06:51:01.755619Z"
    },
    "papermill": {
     "duration": 5.108942,
     "end_time": "2024-03-19T06:51:01.759335",
     "exception": false,
     "start_time": "2024-03-19T06:50:56.650393",
     "status": "completed"
    },
    "tags": []
   },
   "outputs": [
    {
     "name": "stdout",
     "output_type": "stream",
     "text": [
      "0\n",
      "0\n"
     ]
    }
   ],
   "source": [
    "print(train_data.isna().sum().sum())\n",
    "print(train_data.duplicated().sum())"
   ]
  },
  {
   "cell_type": "code",
   "execution_count": 9,
   "id": "6b28ca6e",
   "metadata": {
    "execution": {
     "iopub.execute_input": "2024-03-19T06:51:01.790463Z",
     "iopub.status.busy": "2024-03-19T06:51:01.789986Z",
     "iopub.status.idle": "2024-03-19T06:51:04.027325Z",
     "shell.execute_reply": "2024-03-19T06:51:04.026051Z"
    },
    "papermill": {
     "duration": 2.256339,
     "end_time": "2024-03-19T06:51:04.030437",
     "exception": false,
     "start_time": "2024-03-19T06:51:01.774098",
     "status": "completed"
    },
    "tags": []
   },
   "outputs": [
    {
     "data": {
      "image/png": "[encoded data removed]",
      "text/plain": [
       "<Figure size 1500x800 with 2 Axes>"
      ]
     },
     "metadata": {},
     "output_type": "display_data"
    }
   ],
   "source": [
    "fig,axb = plt.subplots(ncols=2,nrows=1,figsize=(15, 8))\n",
    "\n",
    "#Gender Distribution\n",
    "explode = [0.1, 0.1]\n",
    "train_data.groupby('gender')['is_fraud'].count().plot.pie(explode=explode, autopct=\"%1.1f%%\",ax=axb[0]);\n",
    "\n",
    "ax = sns.countplot(x=\"gender\", hue=\"is_fraud\", data=train_data,ax=axb[1])\n",
    "\n",
    "# Add values on top of each bar\n",
    "for p in ax.patches:\n",
    "    ax.annotate(f'{p.get_height()}', (p.get_x() + p.get_width() / 2., p.get_height()),\n",
    "                ha='center', va='center', xytext=(0, 10), textcoords='offset points')\n",
    "\n",
    "# Set labels and title\n",
    "plt.title(\"Distribution of Gender with Fraud Status\")\n",
    "plt.xlabel(\"Gender\")\n",
    "plt.ylabel(\"Count\")\n",
    "\n",
    "# Show the plot\n",
    "plt.show()"
   ]
  },
  {
   "cell_type": "code",
   "execution_count": 10,
   "id": "444812b3",
   "metadata": {
    "execution": {
     "iopub.execute_input": "2024-03-19T06:51:04.063048Z",
     "iopub.status.busy": "2024-03-19T06:51:04.062624Z",
     "iopub.status.idle": "2024-03-19T06:51:04.309557Z",
     "shell.execute_reply": "2024-03-19T06:51:04.308002Z"
    },
    "papermill": {
     "duration": 0.268541,
     "end_time": "2024-03-19T06:51:04.314180",
     "exception": false,
     "start_time": "2024-03-19T06:51:04.045639",
     "status": "completed"
    },
    "tags": []
   },
   "outputs": [
    {
     "data": {
      "image/png": "[encoded data removed]",
      "text/plain": [
       "<Figure size 1000x600 with 1 Axes>"
      ]
     },
     "metadata": {},
     "output_type": "display_data"
    }
   ],
   "source": [
    "is_fraud = train_data[\"is_fraud\"].value_counts()\n",
    "plt.figure(figsize=(10, 6))\n",
    "plt.subplot(1, 2, 1)  # Subplot for the pie chart\n",
    "plt.pie(is_fraud, labels=[\"No\", \"YES\"], autopct=\"%0.0f%%\")\n",
    "plt.title(\"is_fraud Counts\")\n",
    "plt.tight_layout()  # Adjust layout to prevent overlapping\n",
    "plt.show()"
   ]
  },
  {
   "cell_type": "code",
   "execution_count": 11,
   "id": "d7c38b9d",
   "metadata": {
    "execution": {
     "iopub.execute_input": "2024-03-19T06:51:04.370459Z",
     "iopub.status.busy": "2024-03-19T06:51:04.370023Z",
     "iopub.status.idle": "2024-03-19T06:51:05.990842Z",
     "shell.execute_reply": "2024-03-19T06:51:05.989691Z"
    },
    "papermill": {
     "duration": 1.645488,
     "end_time": "2024-03-19T06:51:05.993742",
     "exception": false,
     "start_time": "2024-03-19T06:51:04.348254",
     "status": "completed"
    },
    "tags": []
   },
   "outputs": [],
   "source": [
    "#Change date type from obj to datetime\n",
    "train_data['trans_date_trans_time'] = pd.to_datetime(train_data['trans_date_trans_time'],format='mixed')\n",
    "test_data['trans_date_trans_time'] = pd.to_datetime(test_data['trans_date_trans_time'],format='mixed')"
   ]
  },
  {
   "cell_type": "code",
   "execution_count": 12,
   "id": "98fa1fc9",
   "metadata": {
    "execution": {
     "iopub.execute_input": "2024-03-19T06:51:06.025949Z",
     "iopub.status.busy": "2024-03-19T06:51:06.025579Z",
     "iopub.status.idle": "2024-03-19T06:51:06.156719Z",
     "shell.execute_reply": "2024-03-19T06:51:06.155180Z"
    },
    "papermill": {
     "duration": 0.149979,
     "end_time": "2024-03-19T06:51:06.159035",
     "exception": false,
     "start_time": "2024-03-19T06:51:06.009056",
     "status": "completed"
    },
    "tags": []
   },
   "outputs": [
    {
     "data": {
      "text/html": [
       "<div>\n",
       "<style scoped>\n",
       "    .dataframe tbody tr th:only-of-type {\n",
       "        vertical-align: middle;\n",
       "    }\n",
       "\n",
       "    .dataframe tbody tr th {\n",
       "        vertical-align: top;\n",
       "    }\n",
       "\n",
       "    .dataframe thead th {\n",
       "        text-align: right;\n",
       "    }\n",
       "</style>\n",
       "<table border=\"1\" class=\"dataframe\">\n",
       "  <thead>\n",
       "    <tr style=\"text-align: right;\">\n",
       "      <th></th>\n",
       "      <th>trans_date_trans_time</th>\n",
       "      <th>cc_num</th>\n",
       "      <th>merchant</th>\n",
       "      <th>category</th>\n",
       "      <th>amt</th>\n",
       "      <th>first</th>\n",
       "      <th>last</th>\n",
       "      <th>gender</th>\n",
       "      <th>street</th>\n",
       "      <th>city</th>\n",
       "      <th>...</th>\n",
       "      <th>city_pop</th>\n",
       "      <th>job</th>\n",
       "      <th>dob</th>\n",
       "      <th>trans_num</th>\n",
       "      <th>unix_time</th>\n",
       "      <th>merch_lat</th>\n",
       "      <th>merch_long</th>\n",
       "      <th>is_fraud</th>\n",
       "      <th>hour</th>\n",
       "      <th>month</th>\n",
       "    </tr>\n",
       "  </thead>\n",
       "  <tbody>\n",
       "    <tr>\n",
       "      <th>0</th>\n",
       "      <td>2019-01-01 00:00:18</td>\n",
       "      <td>2703186189652095</td>\n",
       "      <td>fraud_Rippin, Kub and Mann</td>\n",
       "      <td>misc_net</td>\n",
       "      <td>4.97</td>\n",
       "      <td>Jennifer</td>\n",
       "      <td>Banks</td>\n",
       "      <td>F</td>\n",
       "      <td>561 Perry Cove</td>\n",
       "      <td>Moravian Falls</td>\n",
       "      <td>...</td>\n",
       "      <td>3495</td>\n",
       "      <td>Psychologist, counselling</td>\n",
       "      <td>1988-03-09</td>\n",
       "      <td>0b242abb623afc578575680df30655b9</td>\n",
       "      <td>1325376018</td>\n",
       "      <td>36.011293</td>\n",
       "      <td>-82.048315</td>\n",
       "      <td>0</td>\n",
       "      <td>0</td>\n",
       "      <td>1</td>\n",
       "    </tr>\n",
       "    <tr>\n",
       "      <th>1</th>\n",
       "      <td>2019-01-01 00:00:44</td>\n",
       "      <td>630423337322</td>\n",
       "      <td>fraud_Heller, Gutmann and Zieme</td>\n",
       "      <td>grocery_pos</td>\n",
       "      <td>107.23</td>\n",
       "      <td>Stephanie</td>\n",
       "      <td>Gill</td>\n",
       "      <td>F</td>\n",
       "      <td>43039 Riley Greens Suite 393</td>\n",
       "      <td>Orient</td>\n",
       "      <td>...</td>\n",
       "      <td>149</td>\n",
       "      <td>Special educational needs teacher</td>\n",
       "      <td>1978-06-21</td>\n",
       "      <td>1f76529f8574734946361c461b024d99</td>\n",
       "      <td>1325376044</td>\n",
       "      <td>49.159047</td>\n",
       "      <td>-118.186462</td>\n",
       "      <td>0</td>\n",
       "      <td>0</td>\n",
       "      <td>1</td>\n",
       "    </tr>\n",
       "    <tr>\n",
       "      <th>2</th>\n",
       "      <td>2019-01-01 00:00:51</td>\n",
       "      <td>38859492057661</td>\n",
       "      <td>fraud_Lind-Buckridge</td>\n",
       "      <td>entertainment</td>\n",
       "      <td>220.11</td>\n",
       "      <td>Edward</td>\n",
       "      <td>Sanchez</td>\n",
       "      <td>M</td>\n",
       "      <td>594 White Dale Suite 530</td>\n",
       "      <td>Malad City</td>\n",
       "      <td>...</td>\n",
       "      <td>4154</td>\n",
       "      <td>Nature conservation officer</td>\n",
       "      <td>1962-01-19</td>\n",
       "      <td>a1a22d70485983eac12b5b88dad1cf95</td>\n",
       "      <td>1325376051</td>\n",
       "      <td>43.150704</td>\n",
       "      <td>-112.154481</td>\n",
       "      <td>0</td>\n",
       "      <td>0</td>\n",
       "      <td>1</td>\n",
       "    </tr>\n",
       "    <tr>\n",
       "      <th>3</th>\n",
       "      <td>2019-01-01 00:01:16</td>\n",
       "      <td>3534093764340240</td>\n",
       "      <td>fraud_Kutch, Hermiston and Farrell</td>\n",
       "      <td>gas_transport</td>\n",
       "      <td>45.00</td>\n",
       "      <td>Jeremy</td>\n",
       "      <td>White</td>\n",
       "      <td>M</td>\n",
       "      <td>9443 Cynthia Court Apt. 038</td>\n",
       "      <td>Boulder</td>\n",
       "      <td>...</td>\n",
       "      <td>1939</td>\n",
       "      <td>Patent attorney</td>\n",
       "      <td>1967-01-12</td>\n",
       "      <td>6b849c168bdad6f867558c3793159a81</td>\n",
       "      <td>1325376076</td>\n",
       "      <td>47.034331</td>\n",
       "      <td>-112.561071</td>\n",
       "      <td>0</td>\n",
       "      <td>0</td>\n",
       "      <td>1</td>\n",
       "    </tr>\n",
       "    <tr>\n",
       "      <th>4</th>\n",
       "      <td>2019-01-01 00:03:06</td>\n",
       "      <td>375534208663984</td>\n",
       "      <td>fraud_Keeling-Crist</td>\n",
       "      <td>misc_pos</td>\n",
       "      <td>41.96</td>\n",
       "      <td>Tyler</td>\n",
       "      <td>Garcia</td>\n",
       "      <td>M</td>\n",
       "      <td>408 Bradley Rest</td>\n",
       "      <td>Doe Hill</td>\n",
       "      <td>...</td>\n",
       "      <td>99</td>\n",
       "      <td>Dance movement psychotherapist</td>\n",
       "      <td>1986-03-28</td>\n",
       "      <td>a41d7549acf90789359a9aa5346dcb46</td>\n",
       "      <td>1325376186</td>\n",
       "      <td>38.674999</td>\n",
       "      <td>-78.632459</td>\n",
       "      <td>0</td>\n",
       "      <td>0</td>\n",
       "      <td>1</td>\n",
       "    </tr>\n",
       "  </tbody>\n",
       "</table>\n",
       "<p>5 rows × 24 columns</p>\n",
       "</div>"
      ],
      "text/plain": [
       "  trans_date_trans_time            cc_num                            merchant  \\\n",
       "0   2019-01-01 00:00:18  2703186189652095          fraud_Rippin, Kub and Mann   \n",
       "1   2019-01-01 00:00:44      630423337322     fraud_Heller, Gutmann and Zieme   \n",
       "2   2019-01-01 00:00:51    38859492057661                fraud_Lind-Buckridge   \n",
       "3   2019-01-01 00:01:16  3534093764340240  fraud_Kutch, Hermiston and Farrell   \n",
       "4   2019-01-01 00:03:06   375534208663984                 fraud_Keeling-Crist   \n",
       "\n",
       "        category     amt      first     last gender  \\\n",
       "0       misc_net    4.97   Jennifer    Banks      F   \n",
       "1    grocery_pos  107.23  Stephanie     Gill      F   \n",
       "2  entertainment  220.11     Edward  Sanchez      M   \n",
       "3  gas_transport   45.00     Jeremy    White      M   \n",
       "4       misc_pos   41.96      Tyler   Garcia      M   \n",
       "\n",
       "                         street            city  ... city_pop  \\\n",
       "0                561 Perry Cove  Moravian Falls  ...     3495   \n",
       "1  43039 Riley Greens Suite 393          Orient  ...      149   \n",
       "2      594 White Dale Suite 530      Malad City  ...     4154   \n",
       "3   9443 Cynthia Court Apt. 038         Boulder  ...     1939   \n",
       "4              408 Bradley Rest        Doe Hill  ...       99   \n",
       "\n",
       "                                 job         dob  \\\n",
       "0          Psychologist, counselling  1988-03-09   \n",
       "1  Special educational needs teacher  1978-06-21   \n",
       "2        Nature conservation officer  1962-01-19   \n",
       "3                    Patent attorney  1967-01-12   \n",
       "4     Dance movement psychotherapist  1986-03-28   \n",
       "\n",
       "                          trans_num   unix_time  merch_lat  merch_long  \\\n",
       "0  0b242abb623afc578575680df30655b9  1325376018  36.011293  -82.048315   \n",
       "1  1f76529f8574734946361c461b024d99  1325376044  49.159047 -118.186462   \n",
       "2  a1a22d70485983eac12b5b88dad1cf95  1325376051  43.150704 -112.154481   \n",
       "3  6b849c168bdad6f867558c3793159a81  1325376076  47.034331 -112.561071   \n",
       "4  a41d7549acf90789359a9aa5346dcb46  1325376186  38.674999  -78.632459   \n",
       "\n",
       "  is_fraud  hour  month  \n",
       "0        0     0      1  \n",
       "1        0     0      1  \n",
       "2        0     0      1  \n",
       "3        0     0      1  \n",
       "4        0     0      1  \n",
       "\n",
       "[5 rows x 24 columns]"
      ]
     },
     "execution_count": 12,
     "metadata": {},
     "output_type": "execute_result"
    }
   ],
   "source": [
    "train_data['hour'] = train_data['trans_date_trans_time'].dt.hour\n",
    "test_data['hour'] = test_data['trans_date_trans_time'].dt.hour\n",
    "\n",
    "train_data['month'] = train_data['trans_date_trans_time'].dt.month\n",
    "test_data['month'] = test_data['trans_date_trans_time'].dt.month\n",
    "\n",
    "train_data.head()"
   ]
  },
  {
   "cell_type": "code",
   "execution_count": 13,
   "id": "29f40400",
   "metadata": {
    "execution": {
     "iopub.execute_input": "2024-03-19T06:51:06.193052Z",
     "iopub.status.busy": "2024-03-19T06:51:06.192094Z",
     "iopub.status.idle": "2024-03-19T06:51:08.486755Z",
     "shell.execute_reply": "2024-03-19T06:51:08.485384Z"
    },
    "papermill": {
     "duration": 2.314952,
     "end_time": "2024-03-19T06:51:08.489607",
     "exception": false,
     "start_time": "2024-03-19T06:51:06.174655",
     "status": "completed"
    },
    "tags": []
   },
   "outputs": [
    {
     "data": {
      "image/png": "[encoded data removed]",
      "text/plain": [
       "<Figure size 1500x500 with 2 Axes>"
      ]
     },
     "metadata": {},
     "output_type": "display_data"
    }
   ],
   "source": [
    "f, (ax1, ax2) = plt.subplots(1, 2, figsize=(15,5), sharey=True)\n",
    "\n",
    "ax1 = sns.histplot(x='hour', data=train_data[train_data[\"is_fraud\"] == 0],\n",
    "                   stat=\"density\", bins=24, ax=ax1, color=\"orange\")\n",
    "\n",
    "ax2 = sns.histplot(x='hour', data=train_data[train_data[\"is_fraud\"] == 1],\n",
    "                   stat=\"density\", bins=24, ax=ax2, color=\"green\")\n",
    "\n",
    "ax1.set_title(\"Not Fraud\")\n",
    "ax2.set_title(\"Fraud\")\n",
    "\n",
    "ax1.set_xticks(np.arange(24)) # ticks of the day 0 -> 23\n",
    "ax2.set_xticks(np.arange(24));"
   ]
  },
  {
   "cell_type": "markdown",
   "id": "d29827b5",
   "metadata": {
    "papermill": {
     "duration": 0.015908,
     "end_time": "2024-03-19T06:51:08.521941",
     "exception": false,
     "start_time": "2024-03-19T06:51:08.506033",
     "status": "completed"
    },
    "tags": []
   },
   "source": [
    "# DATA PREPROCESSING"
   ]
  },
  {
   "cell_type": "code",
   "execution_count": 14,
   "id": "e7e84bb8",
   "metadata": {
    "execution": {
     "iopub.execute_input": "2024-03-19T06:51:08.557375Z",
     "iopub.status.busy": "2024-03-19T06:51:08.556913Z",
     "iopub.status.idle": "2024-03-19T06:51:09.054929Z",
     "shell.execute_reply": "2024-03-19T06:51:09.053640Z"
    },
    "papermill": {
     "duration": 0.519065,
     "end_time": "2024-03-19T06:51:09.057785",
     "exception": false,
     "start_time": "2024-03-19T06:51:08.538720",
     "status": "completed"
    },
    "tags": []
   },
   "outputs": [
    {
     "name": "stdout",
     "output_type": "stream",
     "text": [
      "Total count of unique transaction numbers: 1296675\n"
     ]
    }
   ],
   "source": [
    "unique_transaction_count = len(train_data['trans_num'].unique())\n",
    "print(\"Total count of unique transaction numbers:\", unique_transaction_count)"
   ]
  },
  {
   "cell_type": "code",
   "execution_count": 15,
   "id": "f4abfd03",
   "metadata": {
    "execution": {
     "iopub.execute_input": "2024-03-19T06:51:09.092513Z",
     "iopub.status.busy": "2024-03-19T06:51:09.092073Z",
     "iopub.status.idle": "2024-03-19T06:51:09.222550Z",
     "shell.execute_reply": "2024-03-19T06:51:09.221048Z"
    },
    "papermill": {
     "duration": 0.151015,
     "end_time": "2024-03-19T06:51:09.225205",
     "exception": false,
     "start_time": "2024-03-19T06:51:09.074190",
     "status": "completed"
    },
    "tags": []
   },
   "outputs": [
    {
     "data": {
      "text/html": [
       "<div>\n",
       "<style scoped>\n",
       "    .dataframe tbody tr th:only-of-type {\n",
       "        vertical-align: middle;\n",
       "    }\n",
       "\n",
       "    .dataframe tbody tr th {\n",
       "        vertical-align: top;\n",
       "    }\n",
       "\n",
       "    .dataframe thead th {\n",
       "        text-align: right;\n",
       "    }\n",
       "</style>\n",
       "<table border=\"1\" class=\"dataframe\">\n",
       "  <thead>\n",
       "    <tr style=\"text-align: right;\">\n",
       "      <th></th>\n",
       "      <th>merchant</th>\n",
       "      <th>category</th>\n",
       "      <th>amt</th>\n",
       "      <th>last</th>\n",
       "      <th>gender</th>\n",
       "      <th>lat</th>\n",
       "      <th>long</th>\n",
       "      <th>city_pop</th>\n",
       "      <th>job</th>\n",
       "      <th>merch_lat</th>\n",
       "      <th>merch_long</th>\n",
       "      <th>is_fraud</th>\n",
       "      <th>hour</th>\n",
       "      <th>month</th>\n",
       "    </tr>\n",
       "  </thead>\n",
       "  <tbody>\n",
       "    <tr>\n",
       "      <th>0</th>\n",
       "      <td>fraud_Rippin, Kub and Mann</td>\n",
       "      <td>misc_net</td>\n",
       "      <td>4.97</td>\n",
       "      <td>Banks</td>\n",
       "      <td>F</td>\n",
       "      <td>36.0788</td>\n",
       "      <td>-81.1781</td>\n",
       "      <td>3495</td>\n",
       "      <td>Psychologist, counselling</td>\n",
       "      <td>36.011293</td>\n",
       "      <td>-82.048315</td>\n",
       "      <td>0</td>\n",
       "      <td>0</td>\n",
       "      <td>1</td>\n",
       "    </tr>\n",
       "    <tr>\n",
       "      <th>1</th>\n",
       "      <td>fraud_Heller, Gutmann and Zieme</td>\n",
       "      <td>grocery_pos</td>\n",
       "      <td>107.23</td>\n",
       "      <td>Gill</td>\n",
       "      <td>F</td>\n",
       "      <td>48.8878</td>\n",
       "      <td>-118.2105</td>\n",
       "      <td>149</td>\n",
       "      <td>Special educational needs teacher</td>\n",
       "      <td>49.159047</td>\n",
       "      <td>-118.186462</td>\n",
       "      <td>0</td>\n",
       "      <td>0</td>\n",
       "      <td>1</td>\n",
       "    </tr>\n",
       "  </tbody>\n",
       "</table>\n",
       "</div>"
      ],
      "text/plain": [
       "                          merchant     category     amt   last gender  \\\n",
       "0       fraud_Rippin, Kub and Mann     misc_net    4.97  Banks      F   \n",
       "1  fraud_Heller, Gutmann and Zieme  grocery_pos  107.23   Gill      F   \n",
       "\n",
       "       lat      long  city_pop                                job  merch_lat  \\\n",
       "0  36.0788  -81.1781      3495          Psychologist, counselling  36.011293   \n",
       "1  48.8878 -118.2105       149  Special educational needs teacher  49.159047   \n",
       "\n",
       "   merch_long  is_fraud  hour  month  \n",
       "0  -82.048315         0     0      1  \n",
       "1 -118.186462         0     0      1  "
      ]
     },
     "execution_count": 15,
     "metadata": {},
     "output_type": "execute_result"
    }
   ],
   "source": [
    "# remove non-useful columns\n",
    "columns_to_drop = ['first', 'unix_time', 'dob', 'cc_num', 'zip', 'city','street', 'state', 'trans_num', 'trans_date_trans_time']\n",
    "train_df = train_data.drop(columns_to_drop, axis=1)\n",
    "test_df = test_data.drop(columns_to_drop, axis=1)\n",
    "train_df.head(2)"
   ]
  },
  {
   "cell_type": "code",
   "execution_count": 16,
   "id": "7623bc7e",
   "metadata": {
    "execution": {
     "iopub.execute_input": "2024-03-19T06:51:09.261871Z",
     "iopub.status.busy": "2024-03-19T06:51:09.261493Z",
     "iopub.status.idle": "2024-03-19T06:51:09.903802Z",
     "shell.execute_reply": "2024-03-19T06:51:09.902240Z"
    },
    "papermill": {
     "duration": 0.664601,
     "end_time": "2024-03-19T06:51:09.906805",
     "exception": false,
     "start_time": "2024-03-19T06:51:09.242204",
     "status": "completed"
    },
    "tags": []
   },
   "outputs": [],
   "source": [
    "#clean merchant column\n",
    "train_data['merchant'] = train_data['merchant'].apply(lambda x : x.replace('fraud_',''))"
   ]
  },
  {
   "cell_type": "code",
   "execution_count": 17,
   "id": "9a4d0aa6",
   "metadata": {
    "execution": {
     "iopub.execute_input": "2024-03-19T06:51:09.943566Z",
     "iopub.status.busy": "2024-03-19T06:51:09.942181Z",
     "iopub.status.idle": "2024-03-19T06:51:11.536020Z",
     "shell.execute_reply": "2024-03-19T06:51:11.534965Z"
    },
    "papermill": {
     "duration": 1.614688,
     "end_time": "2024-03-19T06:51:11.538898",
     "exception": false,
     "start_time": "2024-03-19T06:51:09.924210",
     "status": "completed"
    },
    "tags": []
   },
   "outputs": [
    {
     "name": "stdout",
     "output_type": "stream",
     "text": [
      "<class 'pandas.core.frame.DataFrame'>\n",
      "Index: 1296675 entries, 0 to 1296674\n",
      "Data columns (total 24 columns):\n",
      " #   Column                 Non-Null Count    Dtype         \n",
      "---  ------                 --------------    -----         \n",
      " 0   trans_date_trans_time  1296675 non-null  datetime64[ns]\n",
      " 1   cc_num                 1296675 non-null  int64         \n",
      " 2   merchant               1296675 non-null  object        \n",
      " 3   category               1296675 non-null  object        \n",
      " 4   amt                    1296675 non-null  float64       \n",
      " 5   first                  1296675 non-null  object        \n",
      " 6   last                   1296675 non-null  object        \n",
      " 7   gender                 1296675 non-null  object        \n",
      " 8   street                 1296675 non-null  object        \n",
      " 9   city                   1296675 non-null  object        \n",
      " 10  state                  1296675 non-null  object        \n",
      " 11  zip                    1296675 non-null  int64         \n",
      " 12  lat                    1296675 non-null  float64       \n",
      " 13  long                   1296675 non-null  float64       \n",
      " 14  city_pop               1296675 non-null  int64         \n",
      " 15  job                    1296675 non-null  object        \n",
      " 16  dob                    1296675 non-null  object        \n",
      " 17  trans_num              1296675 non-null  object        \n",
      " 18  unix_time              1296675 non-null  int64         \n",
      " 19  merch_lat              1296675 non-null  float64       \n",
      " 20  merch_long             1296675 non-null  float64       \n",
      " 21  is_fraud               1296675 non-null  int64         \n",
      " 22  hour                   1296675 non-null  int32         \n",
      " 23  month                  1296675 non-null  int32         \n",
      "dtypes: datetime64[ns](1), float64(5), int32(2), int64(5), object(11)\n",
      "memory usage: 237.4+ MB\n"
     ]
    }
   ],
   "source": [
    "train_data.info()"
   ]
  },
  {
   "cell_type": "code",
   "execution_count": 18,
   "id": "319e8fb5",
   "metadata": {
    "execution": {
     "iopub.execute_input": "2024-03-19T06:51:11.574609Z",
     "iopub.status.busy": "2024-03-19T06:51:11.573733Z",
     "iopub.status.idle": "2024-03-19T06:51:11.598813Z",
     "shell.execute_reply": "2024-03-19T06:51:11.597972Z"
    },
    "papermill": {
     "duration": 0.045922,
     "end_time": "2024-03-19T06:51:11.601252",
     "exception": false,
     "start_time": "2024-03-19T06:51:11.555330",
     "status": "completed"
    },
    "tags": []
   },
   "outputs": [
    {
     "data": {
      "text/html": [
       "<div>\n",
       "<style scoped>\n",
       "    .dataframe tbody tr th:only-of-type {\n",
       "        vertical-align: middle;\n",
       "    }\n",
       "\n",
       "    .dataframe tbody tr th {\n",
       "        vertical-align: top;\n",
       "    }\n",
       "\n",
       "    .dataframe thead th {\n",
       "        text-align: right;\n",
       "    }\n",
       "</style>\n",
       "<table border=\"1\" class=\"dataframe\">\n",
       "  <thead>\n",
       "    <tr style=\"text-align: right;\">\n",
       "      <th></th>\n",
       "      <th>trans_date_trans_time</th>\n",
       "      <th>cc_num</th>\n",
       "      <th>merchant</th>\n",
       "      <th>category</th>\n",
       "      <th>amt</th>\n",
       "      <th>first</th>\n",
       "      <th>last</th>\n",
       "      <th>gender</th>\n",
       "      <th>street</th>\n",
       "      <th>city</th>\n",
       "      <th>...</th>\n",
       "      <th>city_pop</th>\n",
       "      <th>job</th>\n",
       "      <th>dob</th>\n",
       "      <th>trans_num</th>\n",
       "      <th>unix_time</th>\n",
       "      <th>merch_lat</th>\n",
       "      <th>merch_long</th>\n",
       "      <th>is_fraud</th>\n",
       "      <th>hour</th>\n",
       "      <th>month</th>\n",
       "    </tr>\n",
       "  </thead>\n",
       "  <tbody>\n",
       "    <tr>\n",
       "      <th>0</th>\n",
       "      <td>2019-01-01 00:00:18</td>\n",
       "      <td>2703186189652095</td>\n",
       "      <td>Rippin, Kub and Mann</td>\n",
       "      <td>misc_net</td>\n",
       "      <td>4.97</td>\n",
       "      <td>Jennifer</td>\n",
       "      <td>Banks</td>\n",
       "      <td>F</td>\n",
       "      <td>561 Perry Cove</td>\n",
       "      <td>Moravian Falls</td>\n",
       "      <td>...</td>\n",
       "      <td>3495</td>\n",
       "      <td>Psychologist, counselling</td>\n",
       "      <td>1988-03-09</td>\n",
       "      <td>0b242abb623afc578575680df30655b9</td>\n",
       "      <td>1325376018</td>\n",
       "      <td>36.011293</td>\n",
       "      <td>-82.048315</td>\n",
       "      <td>0</td>\n",
       "      <td>0</td>\n",
       "      <td>1</td>\n",
       "    </tr>\n",
       "    <tr>\n",
       "      <th>1</th>\n",
       "      <td>2019-01-01 00:00:44</td>\n",
       "      <td>630423337322</td>\n",
       "      <td>Heller, Gutmann and Zieme</td>\n",
       "      <td>grocery_pos</td>\n",
       "      <td>107.23</td>\n",
       "      <td>Stephanie</td>\n",
       "      <td>Gill</td>\n",
       "      <td>F</td>\n",
       "      <td>43039 Riley Greens Suite 393</td>\n",
       "      <td>Orient</td>\n",
       "      <td>...</td>\n",
       "      <td>149</td>\n",
       "      <td>Special educational needs teacher</td>\n",
       "      <td>1978-06-21</td>\n",
       "      <td>1f76529f8574734946361c461b024d99</td>\n",
       "      <td>1325376044</td>\n",
       "      <td>49.159047</td>\n",
       "      <td>-118.186462</td>\n",
       "      <td>0</td>\n",
       "      <td>0</td>\n",
       "      <td>1</td>\n",
       "    </tr>\n",
       "    <tr>\n",
       "      <th>2</th>\n",
       "      <td>2019-01-01 00:00:51</td>\n",
       "      <td>38859492057661</td>\n",
       "      <td>Lind-Buckridge</td>\n",
       "      <td>entertainment</td>\n",
       "      <td>220.11</td>\n",
       "      <td>Edward</td>\n",
       "      <td>Sanchez</td>\n",
       "      <td>M</td>\n",
       "      <td>594 White Dale Suite 530</td>\n",
       "      <td>Malad City</td>\n",
       "      <td>...</td>\n",
       "      <td>4154</td>\n",
       "      <td>Nature conservation officer</td>\n",
       "      <td>1962-01-19</td>\n",
       "      <td>a1a22d70485983eac12b5b88dad1cf95</td>\n",
       "      <td>1325376051</td>\n",
       "      <td>43.150704</td>\n",
       "      <td>-112.154481</td>\n",
       "      <td>0</td>\n",
       "      <td>0</td>\n",
       "      <td>1</td>\n",
       "    </tr>\n",
       "    <tr>\n",
       "      <th>3</th>\n",
       "      <td>2019-01-01 00:01:16</td>\n",
       "      <td>3534093764340240</td>\n",
       "      <td>Kutch, Hermiston and Farrell</td>\n",
       "      <td>gas_transport</td>\n",
       "      <td>45.00</td>\n",
       "      <td>Jeremy</td>\n",
       "      <td>White</td>\n",
       "      <td>M</td>\n",
       "      <td>9443 Cynthia Court Apt. 038</td>\n",
       "      <td>Boulder</td>\n",
       "      <td>...</td>\n",
       "      <td>1939</td>\n",
       "      <td>Patent attorney</td>\n",
       "      <td>1967-01-12</td>\n",
       "      <td>6b849c168bdad6f867558c3793159a81</td>\n",
       "      <td>1325376076</td>\n",
       "      <td>47.034331</td>\n",
       "      <td>-112.561071</td>\n",
       "      <td>0</td>\n",
       "      <td>0</td>\n",
       "      <td>1</td>\n",
       "    </tr>\n",
       "    <tr>\n",
       "      <th>4</th>\n",
       "      <td>2019-01-01 00:03:06</td>\n",
       "      <td>375534208663984</td>\n",
       "      <td>Keeling-Crist</td>\n",
       "      <td>misc_pos</td>\n",
       "      <td>41.96</td>\n",
       "      <td>Tyler</td>\n",
       "      <td>Garcia</td>\n",
       "      <td>M</td>\n",
       "      <td>408 Bradley Rest</td>\n",
       "      <td>Doe Hill</td>\n",
       "      <td>...</td>\n",
       "      <td>99</td>\n",
       "      <td>Dance movement psychotherapist</td>\n",
       "      <td>1986-03-28</td>\n",
       "      <td>a41d7549acf90789359a9aa5346dcb46</td>\n",
       "      <td>1325376186</td>\n",
       "      <td>38.674999</td>\n",
       "      <td>-78.632459</td>\n",
       "      <td>0</td>\n",
       "      <td>0</td>\n",
       "      <td>1</td>\n",
       "    </tr>\n",
       "  </tbody>\n",
       "</table>\n",
       "<p>5 rows × 24 columns</p>\n",
       "</div>"
      ],
      "text/plain": [
       "  trans_date_trans_time            cc_num                      merchant  \\\n",
       "0   2019-01-01 00:00:18  2703186189652095          Rippin, Kub and Mann   \n",
       "1   2019-01-01 00:00:44      630423337322     Heller, Gutmann and Zieme   \n",
       "2   2019-01-01 00:00:51    38859492057661                Lind-Buckridge   \n",
       "3   2019-01-01 00:01:16  3534093764340240  Kutch, Hermiston and Farrell   \n",
       "4   2019-01-01 00:03:06   375534208663984                 Keeling-Crist   \n",
       "\n",
       "        category     amt      first     last gender  \\\n",
       "0       misc_net    4.97   Jennifer    Banks      F   \n",
       "1    grocery_pos  107.23  Stephanie     Gill      F   \n",
       "2  entertainment  220.11     Edward  Sanchez      M   \n",
       "3  gas_transport   45.00     Jeremy    White      M   \n",
       "4       misc_pos   41.96      Tyler   Garcia      M   \n",
       "\n",
       "                         street            city  ... city_pop  \\\n",
       "0                561 Perry Cove  Moravian Falls  ...     3495   \n",
       "1  43039 Riley Greens Suite 393          Orient  ...      149   \n",
       "2      594 White Dale Suite 530      Malad City  ...     4154   \n",
       "3   9443 Cynthia Court Apt. 038         Boulder  ...     1939   \n",
       "4              408 Bradley Rest        Doe Hill  ...       99   \n",
       "\n",
       "                                 job         dob  \\\n",
       "0          Psychologist, counselling  1988-03-09   \n",
       "1  Special educational needs teacher  1978-06-21   \n",
       "2        Nature conservation officer  1962-01-19   \n",
       "3                    Patent attorney  1967-01-12   \n",
       "4     Dance movement psychotherapist  1986-03-28   \n",
       "\n",
       "                          trans_num   unix_time  merch_lat  merch_long  \\\n",
       "0  0b242abb623afc578575680df30655b9  1325376018  36.011293  -82.048315   \n",
       "1  1f76529f8574734946361c461b024d99  1325376044  49.159047 -118.186462   \n",
       "2  a1a22d70485983eac12b5b88dad1cf95  1325376051  43.150704 -112.154481   \n",
       "3  6b849c168bdad6f867558c3793159a81  1325376076  47.034331 -112.561071   \n",
       "4  a41d7549acf90789359a9aa5346dcb46  1325376186  38.674999  -78.632459   \n",
       "\n",
       "  is_fraud  hour  month  \n",
       "0        0     0      1  \n",
       "1        0     0      1  \n",
       "2        0     0      1  \n",
       "3        0     0      1  \n",
       "4        0     0      1  \n",
       "\n",
       "[5 rows x 24 columns]"
      ]
     },
     "execution_count": 18,
     "metadata": {},
     "output_type": "execute_result"
    }
   ],
   "source": [
    "train_data.head(5)"
   ]
  },
  {
   "cell_type": "code",
   "execution_count": 19,
   "id": "ca4b4ce1",
   "metadata": {
    "execution": {
     "iopub.execute_input": "2024-03-19T06:51:11.641267Z",
     "iopub.status.busy": "2024-03-19T06:51:11.640536Z",
     "iopub.status.idle": "2024-03-19T06:51:18.397407Z",
     "shell.execute_reply": "2024-03-19T06:51:18.396190Z"
    },
    "papermill": {
     "duration": 6.778819,
     "end_time": "2024-03-19T06:51:18.400075",
     "exception": false,
     "start_time": "2024-03-19T06:51:11.621256",
     "status": "completed"
    },
    "tags": []
   },
   "outputs": [
    {
     "data": {
      "text/html": [
       "<div>\n",
       "<style scoped>\n",
       "    .dataframe tbody tr th:only-of-type {\n",
       "        vertical-align: middle;\n",
       "    }\n",
       "\n",
       "    .dataframe tbody tr th {\n",
       "        vertical-align: top;\n",
       "    }\n",
       "\n",
       "    .dataframe thead th {\n",
       "        text-align: right;\n",
       "    }\n",
       "</style>\n",
       "<table border=\"1\" class=\"dataframe\">\n",
       "  <thead>\n",
       "    <tr style=\"text-align: right;\">\n",
       "      <th></th>\n",
       "      <th>merchant</th>\n",
       "      <th>category</th>\n",
       "      <th>first</th>\n",
       "      <th>last</th>\n",
       "      <th>gender</th>\n",
       "      <th>street</th>\n",
       "      <th>city</th>\n",
       "      <th>state</th>\n",
       "      <th>job</th>\n",
       "      <th>dob</th>\n",
       "      <th>trans_num</th>\n",
       "    </tr>\n",
       "  </thead>\n",
       "  <tbody>\n",
       "    <tr>\n",
       "      <th>count</th>\n",
       "      <td>1296675</td>\n",
       "      <td>1296675</td>\n",
       "      <td>1296675</td>\n",
       "      <td>1296675</td>\n",
       "      <td>1296675</td>\n",
       "      <td>1296675</td>\n",
       "      <td>1296675</td>\n",
       "      <td>1296675</td>\n",
       "      <td>1296675</td>\n",
       "      <td>1296675</td>\n",
       "      <td>1296675</td>\n",
       "    </tr>\n",
       "    <tr>\n",
       "      <th>unique</th>\n",
       "      <td>693</td>\n",
       "      <td>14</td>\n",
       "      <td>352</td>\n",
       "      <td>481</td>\n",
       "      <td>2</td>\n",
       "      <td>983</td>\n",
       "      <td>894</td>\n",
       "      <td>51</td>\n",
       "      <td>494</td>\n",
       "      <td>968</td>\n",
       "      <td>1296675</td>\n",
       "    </tr>\n",
       "    <tr>\n",
       "      <th>top</th>\n",
       "      <td>Kilback LLC</td>\n",
       "      <td>gas_transport</td>\n",
       "      <td>Christopher</td>\n",
       "      <td>Smith</td>\n",
       "      <td>F</td>\n",
       "      <td>0069 Robin Brooks Apt. 695</td>\n",
       "      <td>Birmingham</td>\n",
       "      <td>TX</td>\n",
       "      <td>Film/video editor</td>\n",
       "      <td>1977-03-23</td>\n",
       "      <td>0b242abb623afc578575680df30655b9</td>\n",
       "    </tr>\n",
       "    <tr>\n",
       "      <th>freq</th>\n",
       "      <td>4403</td>\n",
       "      <td>131659</td>\n",
       "      <td>26669</td>\n",
       "      <td>28794</td>\n",
       "      <td>709863</td>\n",
       "      <td>3123</td>\n",
       "      <td>5617</td>\n",
       "      <td>94876</td>\n",
       "      <td>9779</td>\n",
       "      <td>5636</td>\n",
       "      <td>1</td>\n",
       "    </tr>\n",
       "  </tbody>\n",
       "</table>\n",
       "</div>"
      ],
      "text/plain": [
       "           merchant       category        first     last   gender  \\\n",
       "count       1296675        1296675      1296675  1296675  1296675   \n",
       "unique          693             14          352      481        2   \n",
       "top     Kilback LLC  gas_transport  Christopher    Smith        F   \n",
       "freq           4403         131659        26669    28794   709863   \n",
       "\n",
       "                            street        city    state                job  \\\n",
       "count                      1296675     1296675  1296675            1296675   \n",
       "unique                         983         894       51                494   \n",
       "top     0069 Robin Brooks Apt. 695  Birmingham       TX  Film/video editor   \n",
       "freq                          3123        5617    94876               9779   \n",
       "\n",
       "               dob                         trans_num  \n",
       "count      1296675                           1296675  \n",
       "unique         968                           1296675  \n",
       "top     1977-03-23  0b242abb623afc578575680df30655b9  \n",
       "freq          5636                                 1  "
      ]
     },
     "execution_count": 19,
     "metadata": {},
     "output_type": "execute_result"
    }
   ],
   "source": [
    "train_data.describe(include='object')"
   ]
  },
  {
   "cell_type": "markdown",
   "id": "1fc4befa",
   "metadata": {
    "papermill": {
     "duration": 0.017517,
     "end_time": "2024-03-19T06:51:18.435552",
     "exception": false,
     "start_time": "2024-03-19T06:51:18.418035",
     "status": "completed"
    },
    "tags": []
   },
   "source": [
    "# DATA ENCODING"
   ]
  },
  {
   "cell_type": "code",
   "execution_count": 20,
   "id": "3e09afea",
   "metadata": {
    "execution": {
     "iopub.execute_input": "2024-03-19T06:51:18.472507Z",
     "iopub.status.busy": "2024-03-19T06:51:18.472103Z",
     "iopub.status.idle": "2024-03-19T06:51:27.084697Z",
     "shell.execute_reply": "2024-03-19T06:51:27.083547Z"
    },
    "papermill": {
     "duration": 8.634338,
     "end_time": "2024-03-19T06:51:27.087550",
     "exception": false,
     "start_time": "2024-03-19T06:51:18.453212",
     "status": "completed"
    },
    "tags": []
   },
   "outputs": [
    {
     "name": "stdout",
     "output_type": "stream",
     "text": [
      "Warning: No categorical columns found. Calling 'transform' will only return input data.\n"
     ]
    }
   ],
   "source": [
    "# applying label encoding\n",
    "train_data['gender'] = train_data['gender'].map({'F': 0, 'M': 1})\n",
    "\n",
    "# applying WOE encoding\n",
    "for col in ['job','merchant', 'category', 'lat', 'last']:\n",
    "    train_data[col] = WOEEncoder().fit_transform(train_data[col],train_data['is_fraud'])"
   ]
  },
  {
   "cell_type": "code",
   "execution_count": 21,
   "id": "c3f9063b",
   "metadata": {
    "execution": {
     "iopub.execute_input": "2024-03-19T06:51:27.126134Z",
     "iopub.status.busy": "2024-03-19T06:51:27.125426Z",
     "iopub.status.idle": "2024-03-19T06:51:27.151135Z",
     "shell.execute_reply": "2024-03-19T06:51:27.150343Z"
    },
    "papermill": {
     "duration": 0.04773,
     "end_time": "2024-03-19T06:51:27.153518",
     "exception": false,
     "start_time": "2024-03-19T06:51:27.105788",
     "status": "completed"
    },
    "tags": []
   },
   "outputs": [
    {
     "data": {
      "text/html": [
       "<div>\n",
       "<style scoped>\n",
       "    .dataframe tbody tr th:only-of-type {\n",
       "        vertical-align: middle;\n",
       "    }\n",
       "\n",
       "    .dataframe tbody tr th {\n",
       "        vertical-align: top;\n",
       "    }\n",
       "\n",
       "    .dataframe thead th {\n",
       "        text-align: right;\n",
       "    }\n",
       "</style>\n",
       "<table border=\"1\" class=\"dataframe\">\n",
       "  <thead>\n",
       "    <tr style=\"text-align: right;\">\n",
       "      <th></th>\n",
       "      <th>trans_date_trans_time</th>\n",
       "      <th>cc_num</th>\n",
       "      <th>merchant</th>\n",
       "      <th>category</th>\n",
       "      <th>amt</th>\n",
       "      <th>first</th>\n",
       "      <th>last</th>\n",
       "      <th>gender</th>\n",
       "      <th>street</th>\n",
       "      <th>city</th>\n",
       "      <th>...</th>\n",
       "      <th>city_pop</th>\n",
       "      <th>job</th>\n",
       "      <th>dob</th>\n",
       "      <th>trans_num</th>\n",
       "      <th>unix_time</th>\n",
       "      <th>merch_lat</th>\n",
       "      <th>merch_long</th>\n",
       "      <th>is_fraud</th>\n",
       "      <th>hour</th>\n",
       "      <th>month</th>\n",
       "    </tr>\n",
       "  </thead>\n",
       "  <tbody>\n",
       "    <tr>\n",
       "      <th>0</th>\n",
       "      <td>2019-01-01 00:00:18</td>\n",
       "      <td>2703186189652095</td>\n",
       "      <td>0.959326</td>\n",
       "      <td>0.924914</td>\n",
       "      <td>4.97</td>\n",
       "      <td>Jennifer</td>\n",
       "      <td>-2.469513</td>\n",
       "      <td>0</td>\n",
       "      <td>561 Perry Cove</td>\n",
       "      <td>Moravian Falls</td>\n",
       "      <td>...</td>\n",
       "      <td>3495</td>\n",
       "      <td>-1.080186</td>\n",
       "      <td>1988-03-09</td>\n",
       "      <td>0b242abb623afc578575680df30655b9</td>\n",
       "      <td>1325376018</td>\n",
       "      <td>36.011293</td>\n",
       "      <td>-82.048315</td>\n",
       "      <td>0</td>\n",
       "      <td>0</td>\n",
       "      <td>1</td>\n",
       "    </tr>\n",
       "    <tr>\n",
       "      <th>1</th>\n",
       "      <td>2019-01-01 00:00:44</td>\n",
       "      <td>630423337322</td>\n",
       "      <td>0.663187</td>\n",
       "      <td>0.898799</td>\n",
       "      <td>107.23</td>\n",
       "      <td>Stephanie</td>\n",
       "      <td>-0.673638</td>\n",
       "      <td>0</td>\n",
       "      <td>43039 Riley Greens Suite 393</td>\n",
       "      <td>Orient</td>\n",
       "      <td>...</td>\n",
       "      <td>149</td>\n",
       "      <td>-0.904144</td>\n",
       "      <td>1978-06-21</td>\n",
       "      <td>1f76529f8574734946361c461b024d99</td>\n",
       "      <td>1325376044</td>\n",
       "      <td>49.159047</td>\n",
       "      <td>-118.186462</td>\n",
       "      <td>0</td>\n",
       "      <td>0</td>\n",
       "      <td>1</td>\n",
       "    </tr>\n",
       "    <tr>\n",
       "      <th>2</th>\n",
       "      <td>2019-01-01 00:00:51</td>\n",
       "      <td>38859492057661</td>\n",
       "      <td>-0.790166</td>\n",
       "      <td>-0.847622</td>\n",
       "      <td>220.11</td>\n",
       "      <td>Edward</td>\n",
       "      <td>0.433257</td>\n",
       "      <td>1</td>\n",
       "      <td>594 White Dale Suite 530</td>\n",
       "      <td>Malad City</td>\n",
       "      <td>...</td>\n",
       "      <td>4154</td>\n",
       "      <td>1.120434</td>\n",
       "      <td>1962-01-19</td>\n",
       "      <td>a1a22d70485983eac12b5b88dad1cf95</td>\n",
       "      <td>1325376051</td>\n",
       "      <td>43.150704</td>\n",
       "      <td>-112.154481</td>\n",
       "      <td>0</td>\n",
       "      <td>0</td>\n",
       "      <td>1</td>\n",
       "    </tr>\n",
       "    <tr>\n",
       "      <th>3</th>\n",
       "      <td>2019-01-01 00:01:16</td>\n",
       "      <td>3534093764340240</td>\n",
       "      <td>-0.416817</td>\n",
       "      <td>-0.209382</td>\n",
       "      <td>45.00</td>\n",
       "      <td>Jeremy</td>\n",
       "      <td>0.148996</td>\n",
       "      <td>1</td>\n",
       "      <td>9443 Cynthia Court Apt. 038</td>\n",
       "      <td>Boulder</td>\n",
       "      <td>...</td>\n",
       "      <td>1939</td>\n",
       "      <td>0.361872</td>\n",
       "      <td>1967-01-12</td>\n",
       "      <td>6b849c168bdad6f867558c3793159a81</td>\n",
       "      <td>1325376076</td>\n",
       "      <td>47.034331</td>\n",
       "      <td>-112.561071</td>\n",
       "      <td>0</td>\n",
       "      <td>0</td>\n",
       "      <td>1</td>\n",
       "    </tr>\n",
       "    <tr>\n",
       "      <th>4</th>\n",
       "      <td>2019-01-01 00:03:06</td>\n",
       "      <td>375534208663984</td>\n",
       "      <td>-0.277905</td>\n",
       "      <td>-0.611091</td>\n",
       "      <td>41.96</td>\n",
       "      <td>Tyler</td>\n",
       "      <td>0.423436</td>\n",
       "      <td>1</td>\n",
       "      <td>408 Bradley Rest</td>\n",
       "      <td>Doe Hill</td>\n",
       "      <td>...</td>\n",
       "      <td>99</td>\n",
       "      <td>-2.464077</td>\n",
       "      <td>1986-03-28</td>\n",
       "      <td>a41d7549acf90789359a9aa5346dcb46</td>\n",
       "      <td>1325376186</td>\n",
       "      <td>38.674999</td>\n",
       "      <td>-78.632459</td>\n",
       "      <td>0</td>\n",
       "      <td>0</td>\n",
       "      <td>1</td>\n",
       "    </tr>\n",
       "  </tbody>\n",
       "</table>\n",
       "<p>5 rows × 24 columns</p>\n",
       "</div>"
      ],
      "text/plain": [
       "  trans_date_trans_time            cc_num  merchant  category     amt  \\\n",
       "0   2019-01-01 00:00:18  2703186189652095  0.959326  0.924914    4.97   \n",
       "1   2019-01-01 00:00:44      630423337322  0.663187  0.898799  107.23   \n",
       "2   2019-01-01 00:00:51    38859492057661 -0.790166 -0.847622  220.11   \n",
       "3   2019-01-01 00:01:16  3534093764340240 -0.416817 -0.209382   45.00   \n",
       "4   2019-01-01 00:03:06   375534208663984 -0.277905 -0.611091   41.96   \n",
       "\n",
       "       first      last  gender                        street            city  \\\n",
       "0   Jennifer -2.469513       0                561 Perry Cove  Moravian Falls   \n",
       "1  Stephanie -0.673638       0  43039 Riley Greens Suite 393          Orient   \n",
       "2     Edward  0.433257       1      594 White Dale Suite 530      Malad City   \n",
       "3     Jeremy  0.148996       1   9443 Cynthia Court Apt. 038         Boulder   \n",
       "4      Tyler  0.423436       1              408 Bradley Rest        Doe Hill   \n",
       "\n",
       "   ... city_pop       job         dob                         trans_num  \\\n",
       "0  ...     3495 -1.080186  1988-03-09  0b242abb623afc578575680df30655b9   \n",
       "1  ...      149 -0.904144  1978-06-21  1f76529f8574734946361c461b024d99   \n",
       "2  ...     4154  1.120434  1962-01-19  a1a22d70485983eac12b5b88dad1cf95   \n",
       "3  ...     1939  0.361872  1967-01-12  6b849c168bdad6f867558c3793159a81   \n",
       "4  ...       99 -2.464077  1986-03-28  a41d7549acf90789359a9aa5346dcb46   \n",
       "\n",
       "    unix_time  merch_lat  merch_long is_fraud  hour  month  \n",
       "0  1325376018  36.011293  -82.048315        0     0      1  \n",
       "1  1325376044  49.159047 -118.186462        0     0      1  \n",
       "2  1325376051  43.150704 -112.154481        0     0      1  \n",
       "3  1325376076  47.034331 -112.561071        0     0      1  \n",
       "4  1325376186  38.674999  -78.632459        0     0      1  \n",
       "\n",
       "[5 rows x 24 columns]"
      ]
     },
     "execution_count": 21,
     "metadata": {},
     "output_type": "execute_result"
    }
   ],
   "source": [
    "train_data.head(5)"
   ]
  },
  {
   "cell_type": "markdown",
   "id": "40e6ba30",
   "metadata": {
    "papermill": {
     "duration": 0.018221,
     "end_time": "2024-03-19T06:51:27.190180",
     "exception": false,
     "start_time": "2024-03-19T06:51:27.171959",
     "status": "completed"
    },
    "tags": []
   },
   "source": [
    "# DOWN SAMPING TECHNIQUE"
   ]
  },
  {
   "cell_type": "code",
   "execution_count": 22,
   "id": "d7aa6e8e",
   "metadata": {
    "execution": {
     "iopub.execute_input": "2024-03-19T06:51:27.230254Z",
     "iopub.status.busy": "2024-03-19T06:51:27.229550Z",
     "iopub.status.idle": "2024-03-19T06:51:27.573531Z",
     "shell.execute_reply": "2024-03-19T06:51:27.572383Z"
    },
    "papermill": {
     "duration": 0.367748,
     "end_time": "2024-03-19T06:51:27.576768",
     "exception": false,
     "start_time": "2024-03-19T06:51:27.209020",
     "status": "completed"
    },
    "tags": []
   },
   "outputs": [],
   "source": [
    "import pandas as pd\n",
    "from sklearn.model_selection import train_test_split\n",
    "from sklearn.preprocessing import StandardScaler\n",
    "from sklearn.utils import resample\n",
    "\n",
    "# Assuming you've loaded your dataset into train_df\n",
    "\n",
    "# Perform upsampling/downsampling\n",
    "No_class = train_df[train_df[\"is_fraud\"] == 0]\n",
    "yes_class = train_df[train_df[\"is_fraud\"] == 1]\n",
    "\n",
    "No_class = resample(No_class, replace=False, n_samples=len(yes_class))\n",
    "down_samples = pd.concat([yes_class, No_class], axis=0)\n",
    "\n",
    "# Separate features and target variable\n",
    "X = down_samples.drop(\"is_fraud\", axis=1)\n",
    "y = down_samples[\"is_fraud\"]\n",
    "\n",
    "# Split data into train and test sets\n",
    "X_train, X_test, y_train, y_test = train_test_split(X, y, test_size=0.2, random_state=65)\n",
    "\n",
    "# Separate numeric columns for scaling\n",
    "numeric_columns = X_train.select_dtypes(include=['number']).columns\n",
    "X_train_numeric = X_train[numeric_columns]\n",
    "X_test_numeric = X_test[numeric_columns]\n",
    "\n",
    "# Scale only the numeric columns\n",
    "scaler = StandardScaler()\n",
    "X_train_scaled = scaler.fit_transform(X_train_numeric)\n",
    "X_test_scaled = scaler.transform(X_test_numeric)\n",
    "\n",
    "# Concatenate scaled numeric columns with non-numeric columns\n",
    "X_train_processed = pd.concat([pd.DataFrame(X_train_scaled, columns=numeric_columns, index=X_train.index), \n",
    "                               X_train.select_dtypes(exclude=['number'])], axis=1)\n",
    "X_test_processed = pd.concat([pd.DataFrame(X_test_scaled, columns=numeric_columns, index=X_test.index), \n",
    "                              X_test.select_dtypes(exclude=['number'])], axis=1)\n",
    "\n",
    "# Now X_train_processed and X_test_processed contain the scaled numeric features along with non-numeric features\n"
   ]
  },
  {
   "cell_type": "code",
   "execution_count": 23,
   "id": "ac88031c",
   "metadata": {
    "execution": {
     "iopub.execute_input": "2024-03-19T06:51:27.624357Z",
     "iopub.status.busy": "2024-03-19T06:51:27.623782Z",
     "iopub.status.idle": "2024-03-19T06:51:28.237445Z",
     "shell.execute_reply": "2024-03-19T06:51:28.236022Z"
    },
    "papermill": {
     "duration": 0.641291,
     "end_time": "2024-03-19T06:51:28.240408",
     "exception": false,
     "start_time": "2024-03-19T06:51:27.599117",
     "status": "completed"
    },
    "tags": []
   },
   "outputs": [
    {
     "data": {
      "image/png": "[encoded data removed]",
      "text/plain": [
       "<Figure size 1200x600 with 2 Axes>"
      ]
     },
     "metadata": {},
     "output_type": "display_data"
    }
   ],
   "source": [
    "import matplotlib.pyplot as plt\n",
    "\n",
    "# Count the occurrences of each class in the original dataset\n",
    "original_class_counts = train_df[\"is_fraud\"].value_counts()\n",
    "\n",
    "# Count the occurrences of each class in the downsampled dataset\n",
    "downsampled_class_counts = down_samples[\"is_fraud\"].value_counts()\n",
    "\n",
    "# Calculate the percentage of each class\n",
    "original_percentages = original_class_counts / len(train_df) * 100\n",
    "downsampled_percentages = downsampled_class_counts / len(down_samples) * 100\n",
    "\n",
    "# Plotting\n",
    "plt.figure(figsize=(12, 6))\n",
    "\n",
    "# Bar chart for original class distribution\n",
    "plt.subplot(1, 2, 1)\n",
    "bars_1 = plt.bar(original_class_counts.index, original_class_counts.values, color=['orange', 'green'])\n",
    "for bar, label in zip(bars_1, original_percentages):\n",
    "    plt.text(bar.get_x() + bar.get_width() / 2, bar.get_height() + 5, f'{label:.2f}%', ha='center', va='bottom')\n",
    "plt.title('Original Class Distribution')\n",
    "plt.xlabel('Class')\n",
    "plt.ylabel('Count')\n",
    "plt.xticks(original_class_counts.index, ['No Fraud', 'Fraud'])\n",
    "\n",
    "# Bar chart for downsampled class distribution\n",
    "plt.subplot(1, 2, 2)\n",
    "bars_2 = plt.bar(downsampled_class_counts.index, downsampled_class_counts.values, color=['orange', 'green'])\n",
    "for bar, label in zip(bars_2, downsampled_percentages):\n",
    "    plt.text(bar.get_x() + bar.get_width() / 2, bar.get_height() + 5, f'{label:.2f}%', ha='center', va='bottom')\n",
    "plt.title('Downsampled Class Distribution')\n",
    "plt.xlabel('Class')\n",
    "plt.ylabel('Count')\n",
    "plt.xticks(downsampled_class_counts.index, ['No Fraud', 'Fraud'])\n",
    "\n",
    "plt.tight_layout()  # Automatically adjust plots to avoid overlap\n",
    "plt.show()\n"
   ]
  },
  {
   "cell_type": "markdown",
   "id": "c508c2df",
   "metadata": {
    "papermill": {
     "duration": 0.019083,
     "end_time": "2024-03-19T06:51:28.278422",
     "exception": false,
     "start_time": "2024-03-19T06:51:28.259339",
     "status": "completed"
    },
    "tags": []
   },
   "source": [
    "# MACHINE LEARNING MODEL TRAINING"
   ]
  },
  {
   "cell_type": "markdown",
   "id": "c75e2c66",
   "metadata": {
    "papermill": {
     "duration": 0.018439,
     "end_time": "2024-03-19T06:51:28.315569",
     "exception": false,
     "start_time": "2024-03-19T06:51:28.297130",
     "status": "completed"
    },
    "tags": []
   },
   "source": [
    "# LOGISTIC REGRESSION "
   ]
  },
  {
   "cell_type": "code",
   "execution_count": 24,
   "id": "9293a657",
   "metadata": {
    "execution": {
     "iopub.execute_input": "2024-03-19T06:51:28.355365Z",
     "iopub.status.busy": "2024-03-19T06:51:28.354955Z",
     "iopub.status.idle": "2024-03-19T06:51:53.568052Z",
     "shell.execute_reply": "2024-03-19T06:51:53.563161Z"
    },
    "papermill": {
     "duration": 25.238253,
     "end_time": "2024-03-19T06:51:53.572940",
     "exception": false,
     "start_time": "2024-03-19T06:51:28.334687",
     "status": "completed"
    },
    "tags": []
   },
   "outputs": [
    {
     "name": "stdout",
     "output_type": "stream",
     "text": [
      "Classification Report:\n",
      "              precision    recall  f1-score   support\n",
      "\n",
      "           0       0.83      0.82      0.83      1486\n",
      "           1       0.83      0.84      0.83      1517\n",
      "\n",
      "    accuracy                           0.83      3003\n",
      "   macro avg       0.83      0.83      0.83      3003\n",
      "weighted avg       0.83      0.83      0.83      3003\n",
      "\n",
      "Logistic Regression accuracy is: 82.88%\n"
     ]
    }
   ],
   "source": [
    "# Assuming X_train and X_test have categorical variables that need encoding\n",
    "from sklearn.preprocessing import OneHotEncoder\n",
    "\n",
    "# Initialize OneHotEncoder\n",
    "encoder = OneHotEncoder(sparse=False, handle_unknown='ignore')\n",
    "\n",
    "# Fit and transform on training data\n",
    "X_train_encoded = encoder.fit_transform(X_train)\n",
    "\n",
    "# Transform on test data\n",
    "X_test_encoded = encoder.transform(X_test)\n",
    "\n",
    "# Create and train Logistic Regression model\n",
    "LR_model = LogisticRegression()\n",
    "LR_model.fit(X_train_encoded, y_train)\n",
    "\n",
    "# Make predictions on the test set\n",
    "predict_LR = LR_model.predict(X_test_encoded)\n",
    "\n",
    "# Evaluate the model\n",
    "print(\"Classification Report:\")\n",
    "print(classification_report(y_test, predict_LR))\n",
    "\n",
    "# Calculate accuracy\n",
    "LR_accuracy = accuracy_score(predict_LR, y_test)\n",
    "print('Logistic Regression accuracy is: {:.2f}%'.format(LR_accuracy * 100))\n",
    "\n"
   ]
  },
  {
   "cell_type": "markdown",
   "id": "800f5828",
   "metadata": {
    "papermill": {
     "duration": 0.038075,
     "end_time": "2024-03-19T06:51:53.652817",
     "exception": false,
     "start_time": "2024-03-19T06:51:53.614742",
     "status": "completed"
    },
    "tags": []
   },
   "source": []
  },
  {
   "cell_type": "markdown",
   "id": "5ba622fb",
   "metadata": {
    "papermill": {
     "duration": 0.018964,
     "end_time": "2024-03-19T06:51:53.691251",
     "exception": false,
     "start_time": "2024-03-19T06:51:53.672287",
     "status": "completed"
    },
    "tags": []
   },
   "source": [
    "# SUPPORT VECTOR MACHINE MODEL"
   ]
  },
  {
   "cell_type": "code",
   "execution_count": 25,
   "id": "7474d167",
   "metadata": {
    "execution": {
     "iopub.execute_input": "2024-03-19T06:51:53.827754Z",
     "iopub.status.busy": "2024-03-19T06:51:53.827138Z",
     "iopub.status.idle": "2024-03-19T06:51:58.721541Z",
     "shell.execute_reply": "2024-03-19T06:51:58.719981Z"
    },
    "papermill": {
     "duration": 4.922056,
     "end_time": "2024-03-19T06:51:58.727266",
     "exception": false,
     "start_time": "2024-03-19T06:51:53.805210",
     "status": "completed"
    },
    "tags": []
   },
   "outputs": [
    {
     "name": "stdout",
     "output_type": "stream",
     "text": [
      "Classification Report:\n",
      "              precision    recall  f1-score   support\n",
      "\n",
      "           0       0.84      0.82      0.83      1486\n",
      "           1       0.83      0.84      0.84      1517\n",
      "\n",
      "    accuracy                           0.83      3003\n",
      "   macro avg       0.83      0.83      0.83      3003\n",
      "weighted avg       0.83      0.83      0.83      3003\n",
      "\n",
      "SVC model accuracy is: 83.28%\n"
     ]
    }
   ],
   "source": [
    "from sklearn.svm import LinearSVC\n",
    "from sklearn.metrics import classification_report, accuracy_score\n",
    "\n",
    "# Assuming X_train and X_test have categorical variables that need encoding\n",
    "from sklearn.preprocessing import OneHotEncoder\n",
    "\n",
    "# Initialize OneHotEncoder\n",
    "encoder = OneHotEncoder(sparse=False, handle_unknown='ignore')\n",
    "\n",
    "# Fit and transform on training data\n",
    "X_train_encoded = encoder.fit_transform(X_train)\n",
    "\n",
    "# Transform on test data\n",
    "X_test_encoded = encoder.transform(X_test)\n",
    "\n",
    "# Create and train LinearSVC model\n",
    "svm_model = LinearSVC()\n",
    "svm_model.fit(X_train_encoded, y_train)\n",
    "\n",
    "# Make predictions on the test set\n",
    "predict = svm_model.predict(X_test_encoded)\n",
    "\n",
    "# Evaluate the model\n",
    "print(\"Classification Report:\")\n",
    "print(classification_report(y_test, predict))\n",
    "\n",
    "# Calculate accuracy\n",
    "svm_accuracy = accuracy_score(predict, y_test)\n",
    "print('SVC model accuracy is: {:.2f}%'.format(svm_accuracy * 100))\n"
   ]
  },
  {
   "cell_type": "markdown",
   "id": "54db0189",
   "metadata": {
    "papermill": {
     "duration": 0.037094,
     "end_time": "2024-03-19T06:51:58.805335",
     "exception": false,
     "start_time": "2024-03-19T06:51:58.768241",
     "status": "completed"
    },
    "tags": []
   },
   "source": [
    "# GAUSSIAN NB"
   ]
  },
  {
   "cell_type": "code",
   "execution_count": 26,
   "id": "1147a7b1",
   "metadata": {
    "execution": {
     "iopub.execute_input": "2024-03-19T06:51:58.850915Z",
     "iopub.status.busy": "2024-03-19T06:51:58.849184Z",
     "iopub.status.idle": "2024-03-19T06:52:11.159342Z",
     "shell.execute_reply": "2024-03-19T06:52:11.158144Z"
    },
    "papermill": {
     "duration": 12.338195,
     "end_time": "2024-03-19T06:52:11.162460",
     "exception": false,
     "start_time": "2024-03-19T06:51:58.824265",
     "status": "completed"
    },
    "tags": []
   },
   "outputs": [
    {
     "name": "stdout",
     "output_type": "stream",
     "text": [
      "              precision    recall  f1-score   support\n",
      "\n",
      "           0       0.60      0.90      0.72      1486\n",
      "           1       0.82      0.42      0.55      1517\n",
      "\n",
      "    accuracy                           0.66      3003\n",
      "   macro avg       0.71      0.66      0.64      3003\n",
      "weighted avg       0.71      0.66      0.64      3003\n",
      "\n",
      "Naive Bayes model accuracy is: 65.93%\n"
     ]
    }
   ],
   "source": [
    "from sklearn.naive_bayes import GaussianNB\n",
    "from sklearn.metrics import classification_report, accuracy_score\n",
    "\n",
    "# Assuming X_train and X_test have categorical variables that need encoding\n",
    "from sklearn.preprocessing import OneHotEncoder\n",
    "\n",
    "# Initialize OneHotEncoder\n",
    "encoder = OneHotEncoder(sparse=False, handle_unknown='ignore')\n",
    "\n",
    "# Fit and transform on training data\n",
    "X_train_encoded = encoder.fit_transform(X_train)\n",
    "\n",
    "# Transform on test data\n",
    "X_test_encoded = encoder.transform(X_test)\n",
    "\n",
    "# Create and train the Gaussian Naive Bayes model\n",
    "NB_model = GaussianNB()\n",
    "NB_model.fit(X_train_encoded, y_train)\n",
    "\n",
    "# Make predictions on the test set\n",
    "y_pred_naive = NB_model.predict(X_test_encoded)\n",
    "\n",
    "# Evaluate the model\n",
    "print(classification_report(y_test, y_pred_naive))\n",
    "\n",
    "# Calculate accuracy\n",
    "GaussianNB_accuracy = accuracy_score(y_pred_naive, y_test)\n",
    "print('Naive Bayes model accuracy is: {:.2f}%'.format(GaussianNB_accuracy * 100))\n"
   ]
  },
  {
   "cell_type": "markdown",
   "id": "20ea2638",
   "metadata": {
    "papermill": {
     "duration": 0.019258,
     "end_time": "2024-03-19T06:52:11.201451",
     "exception": false,
     "start_time": "2024-03-19T06:52:11.182193",
     "status": "completed"
    },
    "tags": []
   },
   "source": [
    "# DECISION TREE MODEL"
   ]
  },
  {
   "cell_type": "code",
   "execution_count": 27,
   "id": "72d036b9",
   "metadata": {
    "execution": {
     "iopub.execute_input": "2024-03-19T06:52:11.244619Z",
     "iopub.status.busy": "2024-03-19T06:52:11.243702Z",
     "iopub.status.idle": "2024-03-19T06:52:22.934007Z",
     "shell.execute_reply": "2024-03-19T06:52:22.932659Z"
    },
    "papermill": {
     "duration": 11.714906,
     "end_time": "2024-03-19T06:52:22.936892",
     "exception": false,
     "start_time": "2024-03-19T06:52:11.221986",
     "status": "completed"
    },
    "tags": []
   },
   "outputs": [
    {
     "name": "stdout",
     "output_type": "stream",
     "text": [
      "              precision    recall  f1-score   support\n",
      "\n",
      "           0       0.55      0.95      0.70      1486\n",
      "           1       0.84      0.25      0.39      1517\n",
      "\n",
      "    accuracy                           0.60      3003\n",
      "   macro avg       0.70      0.60      0.55      3003\n",
      "weighted avg       0.70      0.60      0.54      3003\n",
      "\n",
      "ID3 model accuracy is: 59.81%\n"
     ]
    }
   ],
   "source": [
    "from sklearn.tree import DecisionTreeClassifier\n",
    "from sklearn.metrics import classification_report, accuracy_score\n",
    "from sklearn.preprocessing import OneHotEncoder\n",
    "\n",
    "# Assuming X_train and X_test have categorical variables that need encoding\n",
    "\n",
    "# Initialize OneHotEncoder\n",
    "encoder = OneHotEncoder(sparse=False, handle_unknown='ignore')\n",
    "\n",
    "# Fit and transform on training data\n",
    "X_train_encoded = encoder.fit_transform(X_train)\n",
    "\n",
    "# Transform on test data\n",
    "X_test_encoded = encoder.transform(X_test)\n",
    "\n",
    "# Create and train the Decision Tree model\n",
    "DT = DecisionTreeClassifier(max_depth=1, random_state=0)\n",
    "DT.fit(X_train_encoded, y_train)\n",
    "\n",
    "# Make predictions on the test set\n",
    "predict_ID3 = DT.predict(X_test_encoded)\n",
    "\n",
    "# Evaluate the model\n",
    "print(classification_report(y_test, predict_ID3))\n",
    "\n",
    "# Calculate accuracy\n",
    "ID3_accuracy = accuracy_score(predict_ID3, y_test)\n",
    "print('ID3 model accuracy is: {:.2f}%'.format(ID3_accuracy * 100))\n"
   ]
  },
  {
   "cell_type": "markdown",
   "id": "5fba0e8b",
   "metadata": {
    "papermill": {
     "duration": 0.021781,
     "end_time": "2024-03-19T06:52:22.978415",
     "exception": false,
     "start_time": "2024-03-19T06:52:22.956634",
     "status": "completed"
    },
    "tags": []
   },
   "source": [
    "# RANDOM FOREST CLASSIFIER"
   ]
  },
  {
   "cell_type": "code",
   "execution_count": 28,
   "id": "adcd01c7",
   "metadata": {
    "execution": {
     "iopub.execute_input": "2024-03-19T06:52:23.021056Z",
     "iopub.status.busy": "2024-03-19T06:52:23.020680Z",
     "iopub.status.idle": "2024-03-19T06:56:28.111224Z",
     "shell.execute_reply": "2024-03-19T06:56:28.110034Z"
    },
    "papermill": {
     "duration": 245.135021,
     "end_time": "2024-03-19T06:56:28.133213",
     "exception": false,
     "start_time": "2024-03-19T06:52:22.998192",
     "status": "completed"
    },
    "tags": []
   },
   "outputs": [
    {
     "name": "stdout",
     "output_type": "stream",
     "text": [
      "Classification Report:\n",
      "              precision    recall  f1-score   support\n",
      "\n",
      "           0       0.87      0.82      0.84      1486\n",
      "           1       0.83      0.88      0.86      1517\n",
      "\n",
      "    accuracy                           0.85      3003\n",
      "   macro avg       0.85      0.85      0.85      3003\n",
      "weighted avg       0.85      0.85      0.85      3003\n",
      "\n",
      "Random Forest model accuracy is: 84.98%\n"
     ]
    }
   ],
   "source": [
    "from sklearn.ensemble import RandomForestClassifier\n",
    "from sklearn.metrics import classification_report, accuracy_score\n",
    "from sklearn.preprocessing import OneHotEncoder\n",
    "\n",
    "# Assuming X_train and X_test have categorical variables that need encoding\n",
    "\n",
    "# Initialize OneHotEncoder\n",
    "encoder = OneHotEncoder(sparse=False, handle_unknown='ignore')\n",
    "\n",
    "# Fit and transform on training data\n",
    "X_train_encoded = encoder.fit_transform(X_train)\n",
    "\n",
    "# Transform on test data\n",
    "X_test_encoded = encoder.transform(X_test)\n",
    "\n",
    "# Initialize and train the Random Forest classifier\n",
    "RF = RandomForestClassifier(n_estimators=100, random_state=0)\n",
    "RF.fit(X_train_encoded, y_train)\n",
    "\n",
    "# Make predictions on the test set\n",
    "predict_RF = RF.predict(X_test_encoded)\n",
    "\n",
    "# Evaluate the model\n",
    "print(\"Classification Report:\")\n",
    "print(classification_report(y_test, predict_RF))\n",
    "\n",
    "# Calculate accuracy\n",
    "RF_accuracy = accuracy_score(predict_RF, y_test)\n",
    "print('Random Forest model accuracy is: {:.2f}%'.format(RF_accuracy * 100))\n"
   ]
  },
  {
   "cell_type": "markdown",
   "id": "08d70a03",
   "metadata": {
    "papermill": {
     "duration": 0.018634,
     "end_time": "2024-03-19T06:56:28.170763",
     "exception": false,
     "start_time": "2024-03-19T06:56:28.152129",
     "status": "completed"
    },
    "tags": []
   },
   "source": [
    "# XGBClassifier"
   ]
  },
  {
   "cell_type": "code",
   "execution_count": 29,
   "id": "06fe77aa",
   "metadata": {
    "execution": {
     "iopub.execute_input": "2024-03-19T06:56:28.210843Z",
     "iopub.status.busy": "2024-03-19T06:56:28.210385Z",
     "iopub.status.idle": "2024-03-19T06:57:54.446779Z",
     "shell.execute_reply": "2024-03-19T06:57:54.445639Z"
    },
    "papermill": {
     "duration": 86.280147,
     "end_time": "2024-03-19T06:57:54.469707",
     "exception": false,
     "start_time": "2024-03-19T06:56:28.189560",
     "status": "completed"
    },
    "tags": []
   },
   "outputs": [
    {
     "name": "stdout",
     "output_type": "stream",
     "text": [
      "Classification Report:\n",
      "              precision    recall  f1-score   support\n",
      "\n",
      "           0       0.83      0.81      0.82      1486\n",
      "           1       0.82      0.84      0.83      1517\n",
      "\n",
      "    accuracy                           0.82      3003\n",
      "   macro avg       0.82      0.82      0.82      3003\n",
      "weighted avg       0.82      0.82      0.82      3003\n",
      "\n",
      "XGBoost model accuracy is: 82.42%\n"
     ]
    }
   ],
   "source": [
    "from xgboost import XGBClassifier\n",
    "from sklearn.metrics import classification_report, accuracy_score\n",
    "from sklearn.preprocessing import OneHotEncoder\n",
    "\n",
    "# Assuming X_train and X_test have categorical variables that need encoding\n",
    "\n",
    "# Initialize OneHotEncoder\n",
    "encoder = OneHotEncoder(sparse=False, handle_unknown='ignore')\n",
    "\n",
    "# Fit and transform on training data\n",
    "X_train_encoded = encoder.fit_transform(X_train)\n",
    "\n",
    "# Transform on test data\n",
    "X_test_encoded = encoder.transform(X_test)\n",
    "\n",
    "# Initialize and train the XGBoost classifier\n",
    "XGB = XGBClassifier(random_state=0)\n",
    "XGB.fit(X_train_encoded, y_train)\n",
    "\n",
    "# Make predictions on the test set\n",
    "predict_XGB = XGB.predict(X_test_encoded)\n",
    "\n",
    "# Evaluate the model\n",
    "print(\"Classification Report:\")\n",
    "print(classification_report(y_test, predict_XGB))\n",
    "\n",
    "# Calculate accuracy\n",
    "XGB_accuracy = accuracy_score(predict_XGB, y_test)\n",
    "print('XGBoost model accuracy is: {:.2f}%'.format(XGB_accuracy * 100))\n"
   ]
  },
  {
   "cell_type": "code",
   "execution_count": 30,
   "id": "84caec03",
   "metadata": {
    "execution": {
     "iopub.execute_input": "2024-03-19T06:57:54.511628Z",
     "iopub.status.busy": "2024-03-19T06:57:54.510767Z",
     "iopub.status.idle": "2024-03-19T06:57:54.521829Z",
     "shell.execute_reply": "2024-03-19T06:57:54.520702Z"
    },
    "papermill": {
     "duration": 0.034995,
     "end_time": "2024-03-19T06:57:54.524281",
     "exception": false,
     "start_time": "2024-03-19T06:57:54.489286",
     "status": "completed"
    },
    "tags": []
   },
   "outputs": [
    {
     "name": "stdout",
     "output_type": "stream",
     "text": [
      "             Algorithm  Accuracy\n",
      "0        XGBClassifier  0.824176\n",
      "1         RandomForest  0.849817\n",
      "2                  ID3  0.598069\n",
      "3  Logistic Regression  0.828838\n",
      "4                  SVC  0.832834\n",
      "5           GaussianNB  0.659341\n"
     ]
    }
   ],
   "source": [
    "import pandas as pd\n",
    "\n",
    "# Define the accuracies and algorithm names\n",
    "Algorithms = ['XGBClassifier', 'RandomForest', 'ID3', 'Logistic Regression', 'SVC', 'GaussianNB']\n",
    "accuracy = [XGB_accuracy, RF_accuracy, ID3_accuracy, LR_accuracy, svm_accuracy, GaussianNB_accuracy]\n",
    "\n",
    "# Create the DataFrame\n",
    "FinalResult = pd.DataFrame({'Algorithm': Algorithms, 'Accuracy': accuracy})\n",
    "\n",
    "# Display the DataFrame\n",
    "print(FinalResult)"
   ]
  },
  {
   "cell_type": "code",
   "execution_count": 31,
   "id": "1f2bdd6e",
   "metadata": {
    "execution": {
     "iopub.execute_input": "2024-03-19T06:57:54.568976Z",
     "iopub.status.busy": "2024-03-19T06:57:54.568244Z",
     "iopub.status.idle": "2024-03-19T06:57:54.981234Z",
     "shell.execute_reply": "2024-03-19T06:57:54.980099Z"
    },
    "papermill": {
     "duration": 0.436845,
     "end_time": "2024-03-19T06:57:54.983784",
     "exception": false,
     "start_time": "2024-03-19T06:57:54.546939",
     "status": "completed"
    },
    "tags": []
   },
   "outputs": [
    {
     "data": {
      "image/png": "[encoded data removed]",
      "text/plain": [
       "<Figure size 700x500 with 1 Axes>"
      ]
     },
     "metadata": {},
     "output_type": "display_data"
    }
   ],
   "source": [
    "plt.figure(figsize=(7, 5))\n",
    "plt.bar(FinalResult['Algorithm'], FinalResult['Accuracy'], color='skyblue')\n",
    "plt.xlabel('Algorithm')\n",
    "plt.ylabel('Accuracy')\n",
    "plt.title('Accuracy of Different Algorithms')\n",
    "plt.ylim(0, 1)  # Set the limit of y-axis from 0 to 1 (accuracy ranges from 0 to 1)\n",
    "plt.xticks(rotation=45)  # Rotate x-axis labels for better visibility\n",
    "plt.grid(axis='x')  # Add gridlines only along the x-axis\n",
    "plt.tight_layout()  # Adjust layout to prevent clipping of labels\n",
    "plt.show()"
   ]
  }
 ],
 "metadata": {
  "kaggle": {
   "accelerator": "none",
   "dataSources": [
    {
     "datasetId": 817870,
     "sourceId": 1399887,
     "sourceType": "datasetVersion"
    }
   ],
   "dockerImageVersionId": 30664,
   "isGpuEnabled": false,
   "isInternetEnabled": false,
   "language": "python",
   "sourceType": "notebook"
  },
  "kernelspec": {
   "display_name": "Python 3",
   "language": "python",
   "name": "python3"
  },
  "language_info": {
   "codemirror_mode": {
    "name": "ipython",
    "version": 3
   },
   "file_extension": ".py",
   "mimetype": "text/x-python",
   "name": "python",
   "nbconvert_exporter": "python",
   "pygments_lexer": "ipython3",
   "version": "3.10.13"
  },
  "papermill": {
   "default_parameters": {},
   "duration": 449.037247,
   "end_time": "2024-03-19T06:57:56.030148",
   "environment_variables": {},
   "exception": null,
   "input_path": "__notebook__.ipynb",
   "output_path": "__notebook__.ipynb",
   "parameters": {},
   "start_time": "2024-03-19T06:50:26.992901",
   "version": "2.5.0"
  }
 },
 "nbformat": 4,
 "nbformat_minor": 5
}
